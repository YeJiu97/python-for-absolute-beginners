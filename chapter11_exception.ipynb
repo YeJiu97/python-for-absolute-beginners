{
 "cells": [
  {
   "cell_type": "markdown",
   "id": "9cc8fb72-e921-4706-92e0-762067b9487f",
   "metadata": {},
   "source": [
    "## 异常"
   ]
  },
  {
   "cell_type": "markdown",
   "id": "13c1b1bf-04cb-4635-8db7-d91f5fe8607e",
   "metadata": {},
   "source": [
    "我们先假设我们会遇到这样的一个问题："
   ]
  },
  {
   "cell_type": "code",
   "execution_count": 1,
   "id": "a5ecc517-546c-4bc1-b8a5-4d76b81e78d3",
   "metadata": {},
   "outputs": [
    {
     "ename": "SyntaxError",
     "evalue": "invalid syntax. Perhaps you forgot a comma? (2497053111.py, line 1)",
     "output_type": "error",
     "traceback": [
      "\u001b[0;36m  Input \u001b[0;32mIn [1]\u001b[0;36m\u001b[0m\n\u001b[0;31m    print(hello world)\u001b[0m\n\u001b[0m          ^\u001b[0m\n\u001b[0;31mSyntaxError\u001b[0m\u001b[0;31m:\u001b[0m invalid syntax. Perhaps you forgot a comma?\n"
     ]
    }
   ],
   "source": [
    "print(hello world)"
   ]
  },
  {
   "cell_type": "markdown",
   "id": "1b39c101-688e-49be-b4c4-d035646c302f",
   "metadata": {},
   "source": [
    "我们可以发现代码执行出错了。\n",
    "\n",
    "在实际程序运行的过程中，可能会出现某一部分程序出错的情况，而我们并不希望这个程序因为出错而整个停止运行。"
   ]
  },
  {
   "cell_type": "code",
   "execution_count": 2,
   "id": "83125fa5-1363-4605-a81e-847ebbe7597d",
   "metadata": {},
   "outputs": [
    {
     "data": {
      "text/plain": [
       "1.5"
      ]
     },
     "execution_count": 2,
     "metadata": {},
     "output_type": "execute_result"
    }
   ],
   "source": [
    "def division(x:float, y:float) -> float:\n",
    "    return x/y\n",
    "\n",
    "division(3.0, 2.0)"
   ]
  },
  {
   "cell_type": "code",
   "execution_count": 3,
   "id": "a360d80f-4ebd-4ba3-abc9-eb1c3906c4a6",
   "metadata": {},
   "outputs": [
    {
     "ename": "ZeroDivisionError",
     "evalue": "float division by zero",
     "output_type": "error",
     "traceback": [
      "\u001b[0;31m---------------------------------------------------------------------------\u001b[0m",
      "\u001b[0;31mZeroDivisionError\u001b[0m                         Traceback (most recent call last)",
      "Input \u001b[0;32mIn [3]\u001b[0m, in \u001b[0;36m<cell line: 1>\u001b[0;34m()\u001b[0m\n\u001b[0;32m----> 1\u001b[0m \u001b[43mdivision\u001b[49m\u001b[43m(\u001b[49m\u001b[38;5;241;43m3.0\u001b[39;49m\u001b[43m,\u001b[49m\u001b[43m \u001b[49m\u001b[38;5;241;43m0\u001b[39;49m\u001b[43m)\u001b[49m\n",
      "Input \u001b[0;32mIn [2]\u001b[0m, in \u001b[0;36mdivision\u001b[0;34m(x, y)\u001b[0m\n\u001b[1;32m      1\u001b[0m \u001b[38;5;28;01mdef\u001b[39;00m \u001b[38;5;21mdivision\u001b[39m(x:\u001b[38;5;28mfloat\u001b[39m, y:\u001b[38;5;28mfloat\u001b[39m) \u001b[38;5;241m-\u001b[39m\u001b[38;5;241m>\u001b[39m \u001b[38;5;28mfloat\u001b[39m:\n\u001b[0;32m----> 2\u001b[0m     \u001b[38;5;28;01mreturn\u001b[39;00m \u001b[43mx\u001b[49m\u001b[38;5;241;43m/\u001b[39;49m\u001b[43my\u001b[49m\n",
      "\u001b[0;31mZeroDivisionError\u001b[0m: float division by zero"
     ]
    }
   ],
   "source": [
    "division(3.0, 0)"
   ]
  },
  {
   "cell_type": "markdown",
   "id": "8157354e-2e11-44e7-973b-d43915b9da7b",
   "metadata": {},
   "source": [
    "这是一个典型的处以0的错误，我们可以使用try来进行修正："
   ]
  },
  {
   "cell_type": "code",
   "execution_count": 4,
   "id": "a7395ad4-af18-475e-9bef-d3f523813ad3",
   "metadata": {},
   "outputs": [
    {
     "name": "stdout",
     "output_type": "stream",
     "text": [
      "float division by zero\n",
      "Can not divide by zero\n"
     ]
    }
   ],
   "source": [
    "try:\n",
    "    division(3.0, 0)\n",
    "except ZeroDivisionError as err:\n",
    "    print(err)\n",
    "    print(\"Can not divide by zero\")"
   ]
  },
  {
   "cell_type": "markdown",
   "id": "005f1b7a-37bf-448b-a7c1-3309fc71b3bb",
   "metadata": {},
   "source": [
    "但是用户要是将一个数字除以一个字符串呢？"
   ]
  },
  {
   "cell_type": "code",
   "execution_count": 5,
   "id": "48343759-a8dc-4117-bbbe-8d31b2aa07c7",
   "metadata": {},
   "outputs": [
    {
     "ename": "TypeError",
     "evalue": "unsupported operand type(s) for /: 'float' and 'str'",
     "output_type": "error",
     "traceback": [
      "\u001b[0;31m---------------------------------------------------------------------------\u001b[0m",
      "\u001b[0;31mTypeError\u001b[0m                                 Traceback (most recent call last)",
      "Input \u001b[0;32mIn [5]\u001b[0m, in \u001b[0;36m<cell line: 1>\u001b[0;34m()\u001b[0m\n\u001b[1;32m      1\u001b[0m \u001b[38;5;28;01mtry\u001b[39;00m:\n\u001b[0;32m----> 2\u001b[0m     \u001b[43mdivision\u001b[49m\u001b[43m(\u001b[49m\u001b[38;5;241;43m3.0\u001b[39;49m\u001b[43m,\u001b[49m\u001b[43m \u001b[49m\u001b[38;5;124;43m\"\u001b[39;49m\u001b[38;5;124;43mtomato\u001b[39;49m\u001b[38;5;124;43m\"\u001b[39;49m\u001b[43m)\u001b[49m\n\u001b[1;32m      3\u001b[0m \u001b[38;5;28;01mexcept\u001b[39;00m \u001b[38;5;167;01mZeroDivisionError\u001b[39;00m \u001b[38;5;28;01mas\u001b[39;00m err:\n\u001b[1;32m      4\u001b[0m     \u001b[38;5;28mprint\u001b[39m(err)\n",
      "Input \u001b[0;32mIn [2]\u001b[0m, in \u001b[0;36mdivision\u001b[0;34m(x, y)\u001b[0m\n\u001b[1;32m      1\u001b[0m \u001b[38;5;28;01mdef\u001b[39;00m \u001b[38;5;21mdivision\u001b[39m(x:\u001b[38;5;28mfloat\u001b[39m, y:\u001b[38;5;28mfloat\u001b[39m) \u001b[38;5;241m-\u001b[39m\u001b[38;5;241m>\u001b[39m \u001b[38;5;28mfloat\u001b[39m:\n\u001b[0;32m----> 2\u001b[0m     \u001b[38;5;28;01mreturn\u001b[39;00m \u001b[43mx\u001b[49m\u001b[38;5;241;43m/\u001b[39;49m\u001b[43my\u001b[49m\n",
      "\u001b[0;31mTypeError\u001b[0m: unsupported operand type(s) for /: 'float' and 'str'"
     ]
    }
   ],
   "source": [
    "try:\n",
    "    division(3.0, \"tomato\")\n",
    "except ZeroDivisionError as err:\n",
    "    print(err)\n",
    "    print(\"cannot divide by zero\")"
   ]
  },
  {
   "cell_type": "markdown",
   "id": "77e1d32d-e1de-4e1e-8a38-79659996c66c",
   "metadata": {},
   "source": [
    "我们可以发现这并不是一个处以0的语法错误，所以捕捉除以0错误并没有被很好的执行。\n",
    "\n",
    "我们现在需要考虑多种可能的情况："
   ]
  },
  {
   "cell_type": "code",
   "execution_count": 6,
   "id": "e1fd668f-42ad-4eb8-b908-9464af555488",
   "metadata": {},
   "outputs": [
    {
     "name": "stdout",
     "output_type": "stream",
     "text": [
      "unsupported operand type(s) for /: 'float' and 'str'\n",
      "Please input a number\n"
     ]
    }
   ],
   "source": [
    "try:\n",
    "    division(3.0, \"tomato\")\n",
    "except ZeroDivisionError as err:  # 考虑除以0的情况\n",
    "    print(err)\n",
    "    print(\"cannot divide by zero\")\n",
    "except TypeError as t_err:\n",
    "    print(t_err)\n",
    "    print(\"Please input a number\")"
   ]
  },
  {
   "cell_type": "markdown",
   "id": "7f2cf9f1-362f-473b-a448-f26403190be1",
   "metadata": {},
   "source": [
    "我们来看一下代码的执行是怎么一回事："
   ]
  },
  {
   "cell_type": "code",
   "execution_count": 20,
   "id": "c7ae3d97-eb5a-4f09-8173-745a776877cb",
   "metadata": {},
   "outputs": [],
   "source": [
    "def division2(x:float, y:float) -> float:\n",
    "    print(\"Let's get started\")\n",
    "    output = x/y\n",
    "    print(\"All done!\")\n",
    "    return output"
   ]
  },
  {
   "cell_type": "code",
   "execution_count": 21,
   "id": "a0ad13be-da48-4615-8012-151ed6a884d0",
   "metadata": {},
   "outputs": [
    {
     "name": "stdout",
     "output_type": "stream",
     "text": [
      "Entering try block\n",
      "Let's get started\n",
      "unsupported operand type(s) for /: 'float' and 'str'\n",
      "Please input a number\n",
      "Program finished\n"
     ]
    }
   ],
   "source": [
    "print(\"Entering try block\")\n",
    "\n",
    "try:\n",
    "    division2(3.0, \"tomato\")\n",
    "except ZeroDivisionError as err:\n",
    "    print(err)\n",
    "    print(\"cannot divide by zero\")\n",
    "except TypeError as t_err:\n",
    "    print(t_err)\n",
    "    print(\"Please input a number\")\n",
    "print(\"Program finished\")"
   ]
  },
  {
   "cell_type": "markdown",
   "id": "67e2409d-7ded-479f-8066-8f18996ba725",
   "metadata": {},
   "source": [
    "可以发现触发了TypeError的错误捕捉。"
   ]
  },
  {
   "cell_type": "code",
   "execution_count": 22,
   "id": "51707e9a-9cee-4675-b1be-80a1ce7ed494",
   "metadata": {},
   "outputs": [
    {
     "name": "stdout",
     "output_type": "stream",
     "text": [
      "Entering try block\n",
      "Let's get started\n",
      "All done!\n",
      "Program finished\n"
     ]
    }
   ],
   "source": [
    "print(\"Entering try block\")\n",
    "\n",
    "try:\n",
    "    division2(3.0, 2.0)\n",
    "except ZeroDivisionError as err:\n",
    "    print(err)\n",
    "    print(\"cannot divide by zero\")\n",
    "except TypeError as t_err:\n",
    "    print(t_err)\n",
    "    print(\"Please input a number\")\n",
    "print(\"Program finished\")"
   ]
  },
  {
   "cell_type": "markdown",
   "id": "065cd762-efa5-45a7-832c-bfb844d56f58",
   "metadata": {},
   "source": [
    "我们需要引入else："
   ]
  },
  {
   "cell_type": "code",
   "execution_count": 24,
   "id": "3b788fc4-66f8-490d-999a-fc2c5c3f66a3",
   "metadata": {},
   "outputs": [
    {
     "name": "stdout",
     "output_type": "stream",
     "text": [
      "Entering try block\n",
      "Let's get started\n",
      "All done!\n",
      "Program finished\n"
     ]
    }
   ],
   "source": [
    "print(\"Entering try block\")\n",
    "\n",
    "try:\n",
    "    division2(3.0, 2.0)\n",
    "except ZeroDivisionError as err:\n",
    "    print(err)\n",
    "    print(\"cannot divide by zero\")\n",
    "except TypeError as t_err:\n",
    "    print(t_err)\n",
    "    print(\"Please input a number\")\n",
    "else:\n",
    "    print(\"Program finished\")"
   ]
  },
  {
   "cell_type": "code",
   "execution_count": 25,
   "id": "a7232e9c-062a-4f0d-bbcf-0321e80325de",
   "metadata": {},
   "outputs": [
    {
     "name": "stdout",
     "output_type": "stream",
     "text": [
      "Entering try block\n",
      "Let's get started\n",
      "unsupported operand type(s) for /: 'float' and 'str'\n",
      "Please input a number\n"
     ]
    }
   ],
   "source": [
    "print(\"Entering try block\")\n",
    "\n",
    "try:\n",
    "    division2(3.0, \"tomato\")\n",
    "except ZeroDivisionError as err:\n",
    "    print(err)\n",
    "    print(\"cannot divide by zero\")\n",
    "except TypeError as t_err:\n",
    "    print(t_err)\n",
    "    print(\"Please input a number\")\n",
    "else:\n",
    "    print(\"Program finished\")"
   ]
  },
  {
   "cell_type": "markdown",
   "id": "5e18030a-17e4-4bf3-9ed1-4999ae9c8a39",
   "metadata": {},
   "source": [
    "else中的语句只有在之前的except没有被触发的情况之下才会被执行。"
   ]
  },
  {
   "cell_type": "markdown",
   "id": "e702327d-be38-4ea0-a871-c683972aad2e",
   "metadata": {},
   "source": [
    "接着我们再来使用一下finally关键字："
   ]
  },
  {
   "cell_type": "code",
   "execution_count": 26,
   "id": "7b9d5427-110c-4db9-9d05-8d9757bf99cd",
   "metadata": {},
   "outputs": [
    {
     "name": "stdout",
     "output_type": "stream",
     "text": [
      "Entering try block\n",
      "Let's get started\n",
      "unsupported operand type(s) for /: 'float' and 'str'\n",
      "Please input a number\n",
      "That concludes this code block\n"
     ]
    }
   ],
   "source": [
    "print(\"Entering try block\")\n",
    "\n",
    "try:\n",
    "    division2(3.0, \"tomato\")\n",
    "except ZeroDivisionError as err:\n",
    "    print(err)\n",
    "    print(\"cannot divide by zero\")\n",
    "except TypeError as t_err:\n",
    "    print(t_err)\n",
    "    print(\"Please input a number\")\n",
    "else:\n",
    "    print(\"Program finished\")\n",
    "finally:\n",
    "    print(\"That concludes this code block\")"
   ]
  },
  {
   "cell_type": "markdown",
   "id": "176e2380-a91d-4d63-b128-fdde63d9b593",
   "metadata": {},
   "source": [
    "不难看出，虽然else中的语句不会被执行，但是finally中的语句始终会被执行。"
   ]
  },
  {
   "cell_type": "markdown",
   "id": "27189a9e-af12-41df-b0f0-9d1ef0a9b10e",
   "metadata": {},
   "source": [
    "如果我们并不清楚是否会会有什么额外的未知类型的错误发生，那么我们可以："
   ]
  },
  {
   "cell_type": "code",
   "execution_count": 31,
   "id": "27a726bb-25a7-417b-9f30-db6ba5fc7ebc",
   "metadata": {},
   "outputs": [
    {
     "name": "stdout",
     "output_type": "stream",
     "text": [
      "Entering try block\n",
      "something unforeseen happened\n",
      "That concludes this code block\n"
     ]
    }
   ],
   "source": [
    "print(\"Entering try block\")\n",
    "\n",
    "try:\n",
    "    division2(3.0, plus)\n",
    "except ZeroDivisionError as err:\n",
    "    print(err)\n",
    "    print(\"cannot divide by zero\")\n",
    "except TypeError as t_err:\n",
    "    print(t_err)\n",
    "    print(\"Please input a number\")\n",
    "except:\n",
    "    print(\"something unforeseen happened\")\n",
    "else:\n",
    "    print(\"Program finished\")\n",
    "finally:\n",
    "    print(\"That concludes this code block\")"
   ]
  },
  {
   "cell_type": "markdown",
   "id": "186bb4e7-b35d-4bea-b561-7ee6aa3b2f83",
   "metadata": {},
   "source": [
    "我们使用了一个plus变量，但是这个变量并没有被定义，也不属于除以0或者除以字符串的情况，这个时候我们就触发了第三个except。"
   ]
  }
 ],
 "metadata": {
  "kernelspec": {
   "display_name": "Python 3 (ipykernel)",
   "language": "python",
   "name": "python3"
  },
  "language_info": {
   "codemirror_mode": {
    "name": "ipython",
    "version": 3
   },
   "file_extension": ".py",
   "mimetype": "text/x-python",
   "name": "python",
   "nbconvert_exporter": "python",
   "pygments_lexer": "ipython3",
   "version": "3.10.4"
  }
 },
 "nbformat": 4,
 "nbformat_minor": 5
}
