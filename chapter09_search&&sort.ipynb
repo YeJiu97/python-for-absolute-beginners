{
 "cells": [
  {
   "cell_type": "markdown",
   "id": "15112b53-b1e5-444a-bcfc-77866808fc7f",
   "metadata": {},
   "source": [
    "## linear search"
   ]
  },
  {
   "attachments": {
    "f9b051e3-b75f-41b1-aebd-20b564826815.png": {
     "image/png": "[encoded data removed]"
    }
   },
   "cell_type": "markdown",
   "id": "115b664e-86af-4415-81ed-890728598edd",
   "metadata": {},
   "source": [
    "线性查找的逻辑非常的简单：按照一定的顺序来检查数组中的每一个元素，直到遍历整个数组或者找到特定的值。\n",
    "\n",
    "图示如下所示：\n",
    "\n",
    "![image.png](attachment:f9b051e3-b75f-41b1-aebd-20b564826815.png)\n",
    "\n",
    "很明显，如果数组的长度边长，那么搜索的时间也会相应的边长，所以是O(n)。"
   ]
  },
  {
   "cell_type": "code",
   "execution_count": 5,
   "id": "e9f7959d-c4ed-4fef-a344-7e90ccb17a75",
   "metadata": {},
   "outputs": [],
   "source": [
    "def linear_search(target, check_list):\n",
    "    \n",
    "    i = 0  # 从头开始进行查找\n",
    "    found = False  # 设置一个没有标记\n",
    "    \n",
    "    while i < len(check_list) and found == False:  # 遍历列表和确定标记\n",
    "        if check_list[i] == target:\n",
    "            found = True  # 如果找到了，则将标记设定为True\n",
    "        else:\n",
    "            i = i+1  # 检查下一个数字\n",
    "        \n",
    "    return found  # 将检查的结果返回"
   ]
  },
  {
   "cell_type": "code",
   "execution_count": 6,
   "id": "fd546168-0d66-42bc-8685-b10ab38066e7",
   "metadata": {},
   "outputs": [
    {
     "name": "stdout",
     "output_type": "stream",
     "text": [
      "True\n",
      "False\n"
     ]
    }
   ],
   "source": [
    "# 进行测试\n",
    "\n",
    "test = [2, 4, 6, 8, 1, 3, 7]\n",
    "\n",
    "print(linear_search(8, test))\n",
    "print(linear_search(9, test))"
   ]
  },
  {
   "cell_type": "markdown",
   "id": "ab36c997-1687-4535-8018-b60cce5f7a70",
   "metadata": {},
   "source": [
    "## binary search"
   ]
  },
  {
   "attachments": {
    "2afb3088-9fb2-4597-a758-2d54b9d03485.png": {
     "image/png": "[encoded data removed]"
    }
   },
   "cell_type": "markdown",
   "id": "7b965b6f-42ac-4a2a-baa6-008ec4ce6736",
   "metadata": {},
   "source": [
    "二分查找的逻辑是在一个有序的数组中通过不断的二分来查找目标元素。\n",
    "\n",
    "其逻辑如下所示：\n",
    "\n",
    "![image.png](attachment:2afb3088-9fb2-4597-a758-2d54b9d03485.png)\n",
    "\n",
    "需要注意的是：列表必须是有序的列表。"
   ]
  },
  {
   "cell_type": "code",
   "execution_count": 18,
   "id": "652b8c04-351b-43c3-b2a5-dce117c0d624",
   "metadata": {},
   "outputs": [],
   "source": [
    "# 返回 x 在 arr 中的索引，如果不存在返回 -1\n",
    "def binarySearch (arr, l, r, x): \n",
    "  \n",
    "    # 基本判断\n",
    "    if r >= l: \n",
    "  \n",
    "        mid = int(l + (r - l)/2)\n",
    "  \n",
    "        # 元素整好的中间位置\n",
    "        if arr[mid] == x: \n",
    "            return mid \n",
    "          \n",
    "        # 元素小于中间位置的元素，只需要再比较左边的元素\n",
    "        elif arr[mid] > x: \n",
    "            return binarySearch(arr, l, mid-1, x) \n",
    "  \n",
    "        # 元素大于中间位置的元素，只需要再比较右边的元素\n",
    "        else: \n",
    "            return binarySearch(arr, mid+1, r, x) \n",
    "  \n",
    "    else: \n",
    "        # 不存在\n",
    "        return -1"
   ]
  },
  {
   "cell_type": "code",
   "execution_count": 20,
   "id": "ce8e1f6e-41ab-476c-b9ed-bbdf99ea72eb",
   "metadata": {},
   "outputs": [
    {
     "name": "stdout",
     "output_type": "stream",
     "text": [
      "3\n"
     ]
    }
   ],
   "source": [
    "# 测试数组\n",
    "arr = [ 2, 3, 4, 10, 40 ] \n",
    "x = 10\n",
    "  \n",
    "# 函数调用\n",
    "result = binarySearch(arr, 0, len(arr)-1, x) \n",
    "print(result)"
   ]
  },
  {
   "cell_type": "markdown",
   "id": "c3fe3e89-15f0-4988-9365-e07890f414c8",
   "metadata": {},
   "source": [
    "## insert sort"
   ]
  },
  {
   "cell_type": "markdown",
   "id": "fce2ed35-62ee-44f6-a057-6e65f977b6e8",
   "metadata": {},
   "source": [
    "对于未排序数据，在已排序序列中从后向前扫描，找到相应位置并插入。"
   ]
  },
  {
   "cell_type": "code",
   "execution_count": 21,
   "id": "40e46e7d-524b-40a0-a5a4-7bb7e3f20370",
   "metadata": {},
   "outputs": [
    {
     "name": "stdout",
     "output_type": "stream",
     "text": [
      "排序后的数组:\n",
      "5\n",
      "6\n",
      "11\n",
      "12\n",
      "13\n"
     ]
    }
   ],
   "source": [
    "def insertionSort(arr): \n",
    "  \n",
    "    for i in range(1, len(arr)): \n",
    "  \n",
    "        key = arr[i] \n",
    "  \n",
    "        j = i-1\n",
    "        while j >=0 and key < arr[j] : \n",
    "                arr[j+1] = arr[j] \n",
    "                j -= 1\n",
    "        arr[j+1] = key \n",
    "  \n",
    "  \n",
    "arr = [12, 11, 13, 5, 6] \n",
    "insertionSort(arr) \n",
    "print (\"排序后的数组:\") \n",
    "for i in range(len(arr)): \n",
    "    print (\"%d\" %arr[i])"
   ]
  },
  {
   "cell_type": "markdown",
   "id": "d3c8773a-15cc-4aea-83ec-829814f06bbe",
   "metadata": {},
   "source": [
    "## bubble sort"
   ]
  },
  {
   "cell_type": "markdown",
   "id": "62dd7262-8000-4a7f-83f8-179ff1a34e21",
   "metadata": {},
   "source": [
    "它重复地走访过要排序的数列，一次比较两个元素，如果他们的顺序错误就把他们交换过来。走访数列的工作是重复地进行直到没有再需要交换，也就是说该数列已经排序完成。"
   ]
  },
  {
   "cell_type": "code",
   "execution_count": 22,
   "id": "fb91b7b4-2a72-461b-ba44-c82361702531",
   "metadata": {},
   "outputs": [],
   "source": [
    "def bubbleSort(arr):\n",
    "    for i in range(1, len(arr)):\n",
    "        for j in range(0, len(arr)-i):\n",
    "            if arr[j] > arr[j+1]:\n",
    "                arr[j], arr[j + 1] = arr[j + 1], arr[j]\n",
    "    return arr"
   ]
  }
 ],
 "metadata": {
  "kernelspec": {
   "display_name": "Python 3 (ipykernel)",
   "language": "python",
   "name": "python3"
  },
  "language_info": {
   "codemirror_mode": {
    "name": "ipython",
    "version": 3
   },
   "file_extension": ".py",
   "mimetype": "text/x-python",
   "name": "python",
   "nbconvert_exporter": "python",
   "pygments_lexer": "ipython3",
   "version": "3.10.4"
  }
 },
 "nbformat": 4,
 "nbformat_minor": 5
}
