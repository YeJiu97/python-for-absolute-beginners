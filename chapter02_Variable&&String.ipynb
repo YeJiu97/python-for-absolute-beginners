{
 "cells": [
  {
   "cell_type": "markdown",
   "id": "777773b1-7e9c-4347-b831-9e29a418db25",
   "metadata": {},
   "source": [
    "## PRINT FUNCTION"
   ]
  },
  {
   "cell_type": "markdown",
   "id": "7c47752d-3723-477e-bb46-9ae40f0a2962",
   "metadata": {},
   "source": [
    "需要学习的第一个函数是print()。\n",
    "\n",
    "print()函数会打印括号中的内容。"
   ]
  },
  {
   "cell_type": "code",
   "execution_count": 1,
   "id": "fe6e98c8-183a-46ce-a6fa-8b682cf27fdf",
   "metadata": {},
   "outputs": [
    {
     "name": "stdout",
     "output_type": "stream",
     "text": [
      "Hello World\n",
      "114514\n"
     ]
    }
   ],
   "source": [
    "# 打印hello world\n",
    "print(\"Hello World\")\n",
    "\n",
    "# 或者打印一个变量的值\n",
    "num = 114514\n",
    "print(num)"
   ]
  },
  {
   "cell_type": "markdown",
   "id": "f31f3d3c-fe76-4651-8953-9c1037d9dc4b",
   "metadata": {},
   "source": [
    "或者我们也能够让括号中的内容先进行计算，然后打印出来："
   ]
  },
  {
   "cell_type": "code",
   "execution_count": 2,
   "id": "ff46b76a-02ec-487f-8b6f-07c76d3487ce",
   "metadata": {},
   "outputs": [
    {
     "name": "stdout",
     "output_type": "stream",
     "text": [
      "6\n"
     ]
    }
   ],
   "source": [
    "print(3+3)"
   ]
  },
  {
   "cell_type": "markdown",
   "id": "b63990e9-a18a-4f5e-b654-2f9ddb5068ca",
   "metadata": {},
   "source": [
    "需要注意的地方在于，python语言无法打印无限循环或者无限不循环小数，这是计算机自身决定的。"
   ]
  },
  {
   "cell_type": "code",
   "execution_count": null,
   "id": "84d4fce8-77ee-4aef-adfe-4e21636bf7d0",
   "metadata": {},
   "outputs": [
    {
     "name": "stdout",
     "output_type": "stream",
     "text": [
      "2.3333333333333335\n"
     ]
    }
   ],
   "source": [
    "print(7/3)"
   ]
  },
  {
   "cell_type": "markdown",
   "id": "25e1c444-55e2-4f40-b094-49e9d54752f3",
   "metadata": {},
   "source": [
    "语句可以使用“”双引号一或者是''单引号："
   ]
  },
  {
   "cell_type": "code",
   "execution_count": 12,
   "id": "71f3d1dd-1d90-4026-b5ab-b8e78f28a314",
   "metadata": {},
   "outputs": [
    {
     "name": "stdout",
     "output_type": "stream",
     "text": [
      "Hello World\n",
      "Hello WOrld\n",
      "He says \"Hello World\"\n"
     ]
    }
   ],
   "source": [
    "print(\"Hello World\")\n",
    "print('Hello WOrld')\n",
    "print('He says \"Hello World\"')"
   ]
  },
  {
   "cell_type": "markdown",
   "id": "45b16c12-71c9-4710-81aa-c086fe37d6d1",
   "metadata": {},
   "source": [
    "我们还可以考虑以下转义符号："
   ]
  },
  {
   "cell_type": "code",
   "execution_count": 17,
   "id": "b5c43a46-dc37-475d-83e9-6c718f6a0fc8",
   "metadata": {},
   "outputs": [
    {
     "name": "stdout",
     "output_type": "stream",
     "text": [
      "how's it goging?\n"
     ]
    }
   ],
   "source": [
    "print(\"how\\'s it goging?\")"
   ]
  },
  {
   "cell_type": "markdown",
   "id": "bfe75f89-935d-4960-b025-99ea799cfee9",
   "metadata": {},
   "source": [
    "\\ 会告诉Python语言进行忽视。"
   ]
  },
  {
   "cell_type": "markdown",
   "id": "5fee9014-a47b-4327-ae22-3a96dec0af24",
   "metadata": {},
   "source": [
    "如果什么都不想打印，而仅仅是想要留下语句来提醒以下自己，可以使用注释功能："
   ]
  },
  {
   "cell_type": "code",
   "execution_count": 15,
   "id": "ae2308e6-1195-4453-861c-f5838a4f6ad7",
   "metadata": {},
   "outputs": [
    {
     "name": "stdout",
     "output_type": "stream",
     "text": [
      "注释\n"
     ]
    }
   ],
   "source": [
    "# 这是一个注释\n",
    "\n",
    "\"\"\" \n",
    "这是一连串的注释\n",
    "可以非常多行\n",
    "\"\"\"\n",
    "\n",
    "print(\"注释\")"
   ]
  },
  {
   "cell_type": "markdown",
   "id": "7cbee32f-f005-4294-869a-709e8fd2958d",
   "metadata": {},
   "source": [
    "## 几个运算符"
   ]
  },
  {
   "cell_type": "markdown",
   "id": "bf39dd84-b143-448c-a2cd-a5f73001f4c3",
   "metadata": {},
   "source": [
    "在python语言中，四则运算与数学书写并无不同：\n",
    "\n",
    "1. 加：+\n",
    "2. 减：-\n",
    "3. 乘：*\n",
    "4. 除：/\n",
    "\n",
    "例子如下所示："
   ]
  },
  {
   "cell_type": "code",
   "execution_count": 6,
   "id": "713a1e1b-9242-4496-b9c0-c7a5c40ee431",
   "metadata": {},
   "outputs": [
    {
     "name": "stdout",
     "output_type": "stream",
     "text": [
      "2\n",
      "0\n",
      "6\n",
      "1.5\n"
     ]
    }
   ],
   "source": [
    "print(1+1)\n",
    "print(1-1)\n",
    "print(2*3)\n",
    "print(3/2)"
   ]
  },
  {
   "cell_type": "markdown",
   "id": "8f52c7a6-496e-4261-b017-8a543ae807d9",
   "metadata": {},
   "source": [
    "无法整除的时候会使用的两种符号：\n",
    "\n",
    "1. 取商：//\n",
    "2. 取余：%\n",
    "\n",
    "例子如下所是："
   ]
  },
  {
   "cell_type": "code",
   "execution_count": 7,
   "id": "81ca2992-fe9e-4142-9039-93af3d86e095",
   "metadata": {},
   "outputs": [
    {
     "name": "stdout",
     "output_type": "stream",
     "text": [
      "3\n"
     ]
    }
   ],
   "source": [
    "print(7//2)"
   ]
  },
  {
   "cell_type": "code",
   "execution_count": 8,
   "id": "7d60ec1b-f27a-4014-888d-029c643cbd46",
   "metadata": {},
   "outputs": [
    {
     "name": "stdout",
     "output_type": "stream",
     "text": [
      "1\n"
     ]
    }
   ],
   "source": [
    "print(7%2)"
   ]
  },
  {
   "cell_type": "markdown",
   "id": "17462c06-2652-46d3-ab37-a1426ca8e7d7",
   "metadata": {},
   "source": [
    "关于取商符号需要注意的是："
   ]
  },
  {
   "cell_type": "code",
   "execution_count": 9,
   "id": "1a0eca4f-68fc-45c2-aef0-83a62b2d9c70",
   "metadata": {},
   "outputs": [
    {
     "name": "stdout",
     "output_type": "stream",
     "text": [
      "-4\n"
     ]
    }
   ],
   "source": [
    "print(-7//2)"
   ]
  },
  {
   "cell_type": "markdown",
   "id": "df4a4f9d-5011-465d-b9e9-dabf414c99f8",
   "metadata": {},
   "source": [
    "Python语言其实是向下取商,或者说取可以的数字中最小的数字。"
   ]
  },
  {
   "cell_type": "markdown",
   "id": "15bfe47e-bddc-4081-8c78-2dec71c8f461",
   "metadata": {},
   "source": [
    "接着我们可以看一下乘方："
   ]
  },
  {
   "cell_type": "code",
   "execution_count": 11,
   "id": "0e6ad10b-16a1-496e-8b3b-e09343f29524",
   "metadata": {},
   "outputs": [
    {
     "name": "stdout",
     "output_type": "stream",
     "text": [
      "256\n"
     ]
    }
   ],
   "source": [
    "print(2**8)"
   ]
  },
  {
   "cell_type": "markdown",
   "id": "a21b6522-896a-42e3-9259-34360613797d",
   "metadata": {},
   "source": [
    "## 变量"
   ]
  },
  {
   "cell_type": "markdown",
   "id": "2a0232e6-fe7a-45bc-b362-7264a9f3d07c",
   "metadata": {},
   "source": [
    "当我们创建一个变量的时候，我们会在内存中开辟一个空间，并且将这个值存储在这个内存空间中。\n",
    "\n",
    "而这个内存空间会有一个内存地址，但是使用内存地址来进行编程对于人而言存在着困难，这个时候我们需要给这个内存空间一个名称，也就是变量名。\n",
    "\n",
    "当编译器使用到这个变量名的时候，便会去访问这个变量名对应的内存空间从而获取存储在其中的值。"
   ]
  },
  {
   "cell_type": "code",
   "execution_count": 2,
   "id": "c201d85c-10b1-4d82-92c8-321929e1531e",
   "metadata": {},
   "outputs": [
    {
     "name": "stdout",
     "output_type": "stream",
     "text": [
      "50\n",
      "True\n"
     ]
    }
   ],
   "source": [
    "x = 20\n",
    "\n",
    "y = 30\n",
    "\n",
    "z = x+y\n",
    "\n",
    "print(z)\n",
    "\n",
    "print(z == 50)"
   ]
  },
  {
   "cell_type": "markdown",
   "id": "a06f8894-fd94-4700-a6fe-b5224284833d",
   "metadata": {},
   "source": [
    "Python语言使用=来进行赋值，而使用==来进行是否相等的判断。"
   ]
  },
  {
   "cell_type": "markdown",
   "id": "1a6b0ede-abb6-4683-8149-3299c36ac78f",
   "metadata": {},
   "source": [
    "Python语言允许为多个变量进行同时赋值："
   ]
  },
  {
   "cell_type": "code",
   "execution_count": 3,
   "id": "eb7b3ad9-96cf-497a-9ec8-3252fdd80cb6",
   "metadata": {},
   "outputs": [
    {
     "name": "stdout",
     "output_type": "stream",
     "text": [
      "20\n",
      "20\n",
      "20\n"
     ]
    }
   ],
   "source": [
    "a = b = c = 20\n",
    "\n",
    "print(a)\n",
    "print(b)\n",
    "print(c)"
   ]
  },
  {
   "cell_type": "markdown",
   "id": "ff4da638-6904-48e0-a42c-ebfd23a0fae7",
   "metadata": {},
   "source": [
    "我们可以使用 id() 函数来查看括号内的变量的值的地址："
   ]
  },
  {
   "cell_type": "code",
   "execution_count": 4,
   "id": "e6999586-6e31-4c72-8237-a60fa5f71c49",
   "metadata": {},
   "outputs": [
    {
     "name": "stdout",
     "output_type": "stream",
     "text": [
      "139944612086608\n",
      "139944612086608\n",
      "139944612086608\n"
     ]
    }
   ],
   "source": [
    "print(id(a))\n",
    "print(id(b))\n",
    "print(id(c))"
   ]
  },
  {
   "cell_type": "markdown",
   "id": "1ffc82e7-8632-447a-8f89-54e9671f8654",
   "metadata": {},
   "source": [
    "我们其实可以发现a，b和c指向的是同一个内存地址。"
   ]
  },
  {
   "cell_type": "code",
   "execution_count": 5,
   "id": "d2adf5bd-99ab-41bb-b3ef-bc235fb9ffba",
   "metadata": {},
   "outputs": [
    {
     "name": "stdout",
     "output_type": "stream",
     "text": [
      "30\n",
      "20\n",
      "20\n"
     ]
    }
   ],
   "source": [
    "a = a+10\n",
    "print(a)\n",
    "print(b)\n",
    "print(c)"
   ]
  },
  {
   "cell_type": "code",
   "execution_count": 6,
   "id": "99675f34-9ca9-43d0-b024-f789d67d7a2c",
   "metadata": {},
   "outputs": [
    {
     "name": "stdout",
     "output_type": "stream",
     "text": [
      "139944612086928\n",
      "139944612086608\n",
      "139944612086608\n"
     ]
    }
   ],
   "source": [
    "print(id(a))\n",
    "print(id(b))\n",
    "print(id(c))"
   ]
  },
  {
   "cell_type": "markdown",
   "id": "5c7877c3-7fd0-4c34-9024-00311d6b0489",
   "metadata": {},
   "source": [
    "当我们对a进行操作之后，我们再输出a，b和c，我们会发现a的值发生了改变，但是b和c并没有。\n",
    "\n",
    "我们使用id()来查看变量的内存地址，可以发现a的内存地址发生了改变，但是b和c的内存地址并没有发生改变。\n",
    "\n",
    "由此可以推断出，python语言通过编译器让系统在内存中开辟了一个新的内存空间，并且将新的a的值存储在这个内存空间中，并且让变量a指向了这个内存空间。"
   ]
  },
  {
   "cell_type": "markdown",
   "id": "1f541d80-65ff-4756-b68f-2ca09432dadf",
   "metadata": {},
   "source": [
    "Python语言提供了五个标准的数据类型：\n",
    "\n",
    "1. numbers 数字\n",
    "2. string 字符串\n",
    "3. list 列表\n",
    "4. tuple 元组\n",
    "5. dictionary 字典\n",
    "\n",
    "上面的代码中的变量都是数字类型的变量。\n",
    "\n",
    "如果不清楚某一个变量的类型是什么，python提供了type()函数来进行查看。"
   ]
  },
  {
   "cell_type": "code",
   "execution_count": 8,
   "id": "864c596b-f3d1-4058-bb27-1ee6689790f3",
   "metadata": {},
   "outputs": [
    {
     "data": {
      "text/plain": [
       "int"
      ]
     },
     "execution_count": 8,
     "metadata": {},
     "output_type": "execute_result"
    }
   ],
   "source": [
    "type(100)"
   ]
  },
  {
   "cell_type": "code",
   "execution_count": 9,
   "id": "c20bb060-d4c2-4a36-934f-98d9f10434ec",
   "metadata": {},
   "outputs": [
    {
     "data": {
      "text/plain": [
       "str"
      ]
     },
     "execution_count": 9,
     "metadata": {},
     "output_type": "execute_result"
    }
   ],
   "source": [
    "type(\"100\")"
   ]
  },
  {
   "cell_type": "code",
   "execution_count": 10,
   "id": "ef7822ef-382a-44bf-987f-7fef419f03c3",
   "metadata": {},
   "outputs": [
    {
     "data": {
      "text/plain": [
       "int"
      ]
     },
     "execution_count": 10,
     "metadata": {},
     "output_type": "execute_result"
    }
   ],
   "source": [
    "type(a)"
   ]
  },
  {
   "cell_type": "markdown",
   "id": "3219a622-2086-4a92-ac42-aa0aa7e4883a",
   "metadata": {},
   "source": [
    "## string"
   ]
  },
  {
   "cell_type": "markdown",
   "id": "53693075-39f1-4500-b006-e74cecefce88",
   "metadata": {},
   "source": [
    "字符串是由数字，字母或者下划线等组成的一串字符，是编程语言中表示文本的数据类型。"
   ]
  },
  {
   "cell_type": "code",
   "execution_count": 12,
   "id": "3c12ea14-7660-4b2b-84ef-ad2509b83176",
   "metadata": {},
   "outputs": [
    {
     "data": {
      "text/plain": [
       "str"
      ]
     },
     "execution_count": 12,
     "metadata": {},
     "output_type": "execute_result"
    }
   ],
   "source": [
    "strOne = \"Hello World\"\n",
    "\n",
    "type(strOne)"
   ]
  },
  {
   "cell_type": "markdown",
   "id": "901e641e-8f67-44ec-bd97-2a36bb77de54",
   "metadata": {},
   "source": [
    "字符串有两种取值顺序：\n",
    "\n",
    "1. 从左到右索引默认0开始的，最大范围是字符串长度少1\n",
    "2. 从右到左索引默认-1开始的，最大范围是字符串开头\n",
    "\n",
    "以下是一个例子："
   ]
  },
  {
   "cell_type": "code",
   "execution_count": 14,
   "id": "c06e6306-3cfe-4ed8-aa11-171cba1caedd",
   "metadata": {},
   "outputs": [
    {
     "name": "stdout",
     "output_type": "stream",
     "text": [
      "Y\n",
      "！\n"
     ]
    }
   ],
   "source": [
    "strTwo = \"YOU ARE BEST！\"\n",
    "\n",
    "print(strTwo[0])\n",
    "print(strTwo[-1])"
   ]
  },
  {
   "cell_type": "code",
   "execution_count": 15,
   "id": "203eb7eb-21ec-4290-ad38-25264eb47fcc",
   "metadata": {},
   "outputs": [
    {
     "name": "stdout",
     "output_type": "stream",
     "text": [
      "T\n"
     ]
    }
   ],
   "source": [
    "print(strTwo[-2])"
   ]
  },
  {
   "cell_type": "markdown",
   "id": "bb2d06c3-6bf6-4151-9e69-f950c3f3b9ea",
   "metadata": {},
   "source": [
    "如果我们需要取一连串的字符出来呢？"
   ]
  },
  {
   "cell_type": "code",
   "execution_count": 17,
   "id": "ab2559bc-1eb3-4445-963d-482b730c34ff",
   "metadata": {},
   "outputs": [
    {
     "name": "stdout",
     "output_type": "stream",
     "text": [
      "YO\n"
     ]
    }
   ],
   "source": [
    "print(strTwo[0:2])"
   ]
  },
  {
   "cell_type": "markdown",
   "id": "56aceda3-332c-4d28-9825-661df249590f",
   "metadata": {},
   "source": [
    "语法个是如上所示[开始位置:结束位置（不包括）]，结束位置不被包括在内，所以说Python语言遵守的是“左闭右开”的原则，左边的数字被包括在内，但是右边不是。"
   ]
  },
  {
   "cell_type": "markdown",
   "id": "25755862-117c-4902-88b0-a458304e1cb2",
   "metadata": {},
   "source": [
    "我们可以使用+号来将两个字符串进行直接合并："
   ]
  },
  {
   "cell_type": "code",
   "execution_count": 16,
   "id": "f435d106-6da5-441b-a885-9e9941a7abdd",
   "metadata": {},
   "outputs": [
    {
     "name": "stdout",
     "output_type": "stream",
     "text": [
      "John YOU ARE BEST！\n"
     ]
    }
   ],
   "source": [
    "strName = \"John\"\n",
    "\n",
    "strSetence = strName + \" \" + strTwo\n",
    "\n",
    "print(strSetence)"
   ]
  },
  {
   "cell_type": "markdown",
   "id": "64270339-8f98-420f-94a5-dbfdc3a6998f",
   "metadata": {},
   "source": [
    "String类型的变量通常出现在需要用户输入语句的时候，而Python语言提供了input()函数来获取输入："
   ]
  },
  {
   "cell_type": "code",
   "execution_count": 19,
   "id": "19060a44-e784-4b54-92b2-f08a0e38204b",
   "metadata": {},
   "outputs": [
    {
     "name": "stdin",
     "output_type": "stream",
     "text": [
      " Hello\n"
     ]
    },
    {
     "name": "stdout",
     "output_type": "stream",
     "text": [
      "Hello\n"
     ]
    }
   ],
   "source": [
    "strInput = input()\n",
    "\n",
    "print(strInput)"
   ]
  },
  {
   "cell_type": "code",
   "execution_count": 20,
   "id": "4873f52a-7d02-4a04-8d1c-0fb28b65b714",
   "metadata": {},
   "outputs": [
    {
     "name": "stdin",
     "output_type": "stream",
     "text": [
      "Please enter numbers here:  114514\n"
     ]
    },
    {
     "name": "stdout",
     "output_type": "stream",
     "text": [
      "114514\n"
     ]
    }
   ],
   "source": [
    "# 或者我们可以在input的括号中提供一段语句来提醒用户应该输入什么\n",
    "\n",
    "strInputTwo = input(\"Please enter numbers here: \")\n",
    "\n",
    "print(strInputTwo)"
   ]
  },
  {
   "cell_type": "markdown",
   "id": "c631e2bc-ad31-4ce5-afcc-e9d3e9b5a9b0",
   "metadata": {},
   "source": [
    "需要注意的是，input()函数获取的输入会被作为String类型进行存储："
   ]
  },
  {
   "cell_type": "code",
   "execution_count": 21,
   "id": "83bbf0d6-bbce-466d-8a56-03468bb1f737",
   "metadata": {},
   "outputs": [
    {
     "data": {
      "text/plain": [
       "str"
      ]
     },
     "execution_count": 21,
     "metadata": {},
     "output_type": "execute_result"
    }
   ],
   "source": [
    "type(strInputTwo)"
   ]
  },
  {
   "cell_type": "markdown",
   "id": "65e2983b-05b0-4aa4-be52-0fbd0a289db1",
   "metadata": {},
   "source": [
    "如果我们希望输入的数字被作为数字来进行处理，我们可以使用int()函数来进行类型转换："
   ]
  },
  {
   "cell_type": "code",
   "execution_count": 23,
   "id": "83e0556a-ef64-40ff-a8b9-2f38b00826f5",
   "metadata": {},
   "outputs": [
    {
     "name": "stdout",
     "output_type": "stream",
     "text": [
      "<class 'int'>\n"
     ]
    }
   ],
   "source": [
    "print(type(int(strInputTwo)))"
   ]
  },
  {
   "cell_type": "markdown",
   "id": "726d5256-4223-4295-a3d4-efe3dc56b5a9",
   "metadata": {},
   "source": [
    "## Write Program"
   ]
  },
  {
   "cell_type": "markdown",
   "id": "455ecb4c-6d07-4fa8-8b2b-6702d08171c4",
   "metadata": {},
   "source": [
    "程序的要求：\n",
    "\n",
    "1. 让用户输入一个数字，带有小数点\n",
    "2. 将这个数字作为圆的半径\n",
    "3. 接着求取这个圆的面积\n",
    "\n",
    "程序如下所示："
   ]
  },
  {
   "cell_type": "code",
   "execution_count": 50,
   "id": "c61d531e-1f66-4455-866e-abfc63a59b23",
   "metadata": {},
   "outputs": [
    {
     "name": "stdin",
     "output_type": "stream",
     "text": [
      "Please enter the radius of the circle:  3.33\n"
     ]
    },
    {
     "name": "stdout",
     "output_type": "stream",
     "text": [
      "34.819146\n"
     ]
    }
   ],
   "source": [
    "radius = float(input(\"Please enter the radius of the circle: \"))\n",
    "area = 3.14 * radius**2\n",
    "\n",
    "print(area)"
   ]
  },
  {
   "cell_type": "markdown",
   "id": "c8c3ae3e-982a-45d7-8c8b-f6cfe71d356e",
   "metadata": {},
   "source": [
    "## 关于String的更多的知识点"
   ]
  },
  {
   "cell_type": "markdown",
   "id": "d517a49c-f61d-4745-ab9c-825bdd9914a8",
   "metadata": {},
   "source": [
    "string提供了len()来对括号中的string的长度来进行判断："
   ]
  },
  {
   "cell_type": "code",
   "execution_count": 51,
   "id": "88a68784-96b0-4123-8bc2-430772e9f407",
   "metadata": {},
   "outputs": [
    {
     "name": "stdout",
     "output_type": "stream",
     "text": [
      "10\n"
     ]
    }
   ],
   "source": [
    "print(len(\"HelloWorld\"))"
   ]
  },
  {
   "cell_type": "markdown",
   "id": "6fed3392-7e4f-407c-a1f4-7b5cb00aae34",
   "metadata": {},
   "source": [
    "我们可以不给出开始位置来对String进行截取："
   ]
  },
  {
   "cell_type": "code",
   "execution_count": 53,
   "id": "a768b0b7-fe7f-4d9c-b0f4-7613ab176f58",
   "metadata": {},
   "outputs": [
    {
     "name": "stdout",
     "output_type": "stream",
     "text": [
      "Hel\n",
      "HelloWor\n"
     ]
    }
   ],
   "source": [
    "strOne = \"HelloWorld\"\n",
    "\n",
    "print(strOne[:3])\n",
    "print(strOne[:-2])"
   ]
  },
  {
   "cell_type": "markdown",
   "id": "c07ebc3c-a175-475f-b3b5-6e2fdf8368c0",
   "metadata": {},
   "source": [
    "或者我们可以每个1个字符来进行截取："
   ]
  },
  {
   "cell_type": "code",
   "execution_count": 56,
   "id": "a06e66e7-b9d2-47d2-b140-25e303858ec6",
   "metadata": {},
   "outputs": [
    {
     "name": "stdout",
     "output_type": "stream",
     "text": [
      "Hloo\n"
     ]
    }
   ],
   "source": [
    "print(strOne[0:-2:2])"
   ]
  },
  {
   "cell_type": "markdown",
   "id": "5ebdcf9b-b61b-451c-87c5-93de92b7f501",
   "metadata": {},
   "source": [
    "语法为：[开始位置:结束位置（不包括）:每次步长]"
   ]
  },
  {
   "cell_type": "markdown",
   "id": "986dcea0-37e8-4f69-bca4-9e81ee1b405b",
   "metadata": {},
   "source": [
    "capitalize()会将字符串的第一个字符转换为大写："
   ]
  },
  {
   "cell_type": "code",
   "execution_count": 2,
   "id": "c3b8b02b-0baa-4795-8507-2f1f7c1d90b7",
   "metadata": {},
   "outputs": [
    {
     "name": "stdout",
     "output_type": "stream",
     "text": [
      "String\n"
     ]
    }
   ],
   "source": [
    "str_one = \"string\"\n",
    "\n",
    "print(str_one.capitalize())"
   ]
  },
  {
   "cell_type": "markdown",
   "id": "5c443cfc-1ee2-4ce8-bb23-9ec280ec40ca",
   "metadata": {},
   "source": [
    "count()则会寻找某一个字符或者字符串在字符串中出现的自出。"
   ]
  },
  {
   "cell_type": "code",
   "execution_count": 5,
   "id": "93bbdb9a-64d2-4806-bf09-016b183698f3",
   "metadata": {},
   "outputs": [
    {
     "name": "stdout",
     "output_type": "stream",
     "text": [
      "3\n"
     ]
    }
   ],
   "source": [
    "str_two = \"string string string\"\n",
    "\n",
    "print(str_two.count(\"s\", 0, 17)) # 0是开始位置，17是结束位置（不包括）"
   ]
  },
  {
   "cell_type": "code",
   "execution_count": 7,
   "id": "a394def7-b934-4093-bfa9-55a9903fd8a3",
   "metadata": {},
   "outputs": [
    {
     "name": "stdout",
     "output_type": "stream",
     "text": [
      "6\n"
     ]
    }
   ],
   "source": [
    "str_three = \"abc abc abc abc abc abc\"\n",
    "print(str_three.count(\"abc\"))"
   ]
  },
  {
   "cell_type": "markdown",
   "id": "b2d70db7-64ae-4e4a-8968-3298d6c6dc54",
   "metadata": {},
   "source": [
    "可以发现count()可以查询字符串出现的次数。"
   ]
  }
 ],
 "metadata": {
  "kernelspec": {
   "display_name": "Python 3 (ipykernel)",
   "language": "python",
   "name": "python3"
  },
  "language_info": {
   "codemirror_mode": {
    "name": "ipython",
    "version": 3
   },
   "file_extension": ".py",
   "mimetype": "text/x-python",
   "name": "python",
   "nbconvert_exporter": "python",
   "pygments_lexer": "ipython3",
   "version": "3.10.4"
  }
 },
 "nbformat": 4,
 "nbformat_minor": 5
}
