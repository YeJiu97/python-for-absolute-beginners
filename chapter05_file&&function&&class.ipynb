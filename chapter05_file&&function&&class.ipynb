{
 "cells": [
  {
   "cell_type": "markdown",
   "id": "a4bc1216-d3d6-4a92-8daa-3034a9c5a3fd",
   "metadata": {},
   "source": [
    "## File 文件操作"
   ]
  },
  {
   "cell_type": "markdown",
   "id": "301bcc59-3d5e-4765-b579-68b20d34e27b",
   "metadata": {},
   "source": [
    "Python会使用open()方法来打开一个文件，并且会返回文件对象。\n",
    "\n",
    "如果文件无法被打开，则会返回OSError作为报错。\n",
    "\n",
    "使用open()打开的文件对象需要使用close()方法来进行关闭。\n",
    "\n",
    "通常来讲open()会接收两个参数:文件名和模式。"
   ]
  },
  {
   "cell_type": "code",
   "execution_count": 18,
   "id": "cf55f70f-9407-449d-ab13-7b72c6aa402a",
   "metadata": {},
   "outputs": [],
   "source": [
    "f = open(\"File01.txt\", \"w\")"
   ]
  },
  {
   "cell_type": "markdown",
   "id": "908c9100-5d81-41e1-9c3a-0844684fd7e3",
   "metadata": {},
   "source": [
    "文件对象文File01.txt，模式为\"w\"，w意味写入，如果没有这个文件，则会创建这个文件。"
   ]
  },
  {
   "cell_type": "code",
   "execution_count": 5,
   "id": "b6e02d12-a77d-496c-92ed-e2e3dfaa3f5c",
   "metadata": {},
   "outputs": [
    {
     "name": "stdout",
     "output_type": "stream",
     "text": [
      "<class '_io.TextIOWrapper'>\n"
     ]
    }
   ],
   "source": [
    "# 我们可以查看一下f的类型\n",
    "print(type(f))"
   ]
  },
  {
   "cell_type": "markdown",
   "id": "a553a733-3020-489d-965b-56eb0d5be464",
   "metadata": {},
   "source": [
    "接着让我们向文件中写入一些内容："
   ]
  },
  {
   "cell_type": "code",
   "execution_count": 19,
   "id": "4f69d1d0-6f51-4eb6-9aa3-1885a45eae5e",
   "metadata": {},
   "outputs": [
    {
     "data": {
      "text/plain": [
       "12"
      ]
     },
     "execution_count": 19,
     "metadata": {},
     "output_type": "execute_result"
    }
   ],
   "source": [
    "f.write(\"Hello World\\n\")"
   ]
  },
  {
   "cell_type": "code",
   "execution_count": 20,
   "id": "15b0e87e-8423-498f-bc66-12179d168a1d",
   "metadata": {},
   "outputs": [
    {
     "data": {
      "text/plain": [
       "46"
      ]
     },
     "execution_count": 20,
     "metadata": {},
     "output_type": "execute_result"
    }
   ],
   "source": [
    "f.write(\"This is a testing for python's file functions\\n\")"
   ]
  },
  {
   "cell_type": "code",
   "execution_count": 21,
   "id": "de8f089f-1cbb-4734-87a5-7db19d582128",
   "metadata": {},
   "outputs": [],
   "source": [
    "f.close()"
   ]
  },
  {
   "cell_type": "markdown",
   "id": "cbe0eebb-20d3-4564-92cd-3da011cd2d26",
   "metadata": {},
   "source": [
    "如果我们想要在原有的文档中添加内容呢？我们可以使用\"a\"模式来进行："
   ]
  },
  {
   "cell_type": "code",
   "execution_count": 24,
   "id": "2fb39c87-83c8-45bb-be2f-6e21117c8459",
   "metadata": {},
   "outputs": [],
   "source": [
    "with open (\"File01.txt\", \"a\") as f:\n",
    "    f.write(\"We add some things new here.\")\n",
    "    f.close"
   ]
  },
  {
   "cell_type": "markdown",
   "id": "b5103eec-6635-44a8-9ed0-ddeccd3c2f72",
   "metadata": {},
   "source": [
    "接着我们来读取和打印文件中的内容："
   ]
  },
  {
   "cell_type": "code",
   "execution_count": 25,
   "id": "f4346f80-faf7-47e0-a63e-3e7efd355ab4",
   "metadata": {},
   "outputs": [
    {
     "name": "stdout",
     "output_type": "stream",
     "text": [
      "Hello World\n",
      "\n",
      "This is a testing for python's file functions\n",
      "\n",
      "We add some things new here.We add some things new here.We add some things new here.\n"
     ]
    }
   ],
   "source": [
    "with open(\"File01.txt\", \"r\") as f:\n",
    "    for line in f.readlines():\n",
    "        print(line)\n",
    "    f.close"
   ]
  },
  {
   "cell_type": "markdown",
   "id": "f744ac58-5143-44a9-a1c5-1d30ae126286",
   "metadata": {},
   "source": [
    "不要忘记close打开的文件。"
   ]
  },
  {
   "cell_type": "markdown",
   "id": "c4ea583a-a3a0-44e0-aaa1-513ac937015f",
   "metadata": {},
   "source": [
    "## function 函数"
   ]
  },
  {
   "cell_type": "markdown",
   "id": "907545eb-115b-467b-9e99-3af7ff2f7cad",
   "metadata": {},
   "source": [
    "一些情况之下，我们需要反复的使用到一段代码，这个时候最好的做法不是反复的写这一段代码，一或者是赋值粘贴，而是将这一段代码打包成一个函数。"
   ]
  },
  {
   "cell_type": "code",
   "execution_count": 26,
   "id": "dd4ab828-472a-4696-b4e4-84a6a72fd1f5",
   "metadata": {},
   "outputs": [
    {
     "name": "stdout",
     "output_type": "stream",
     "text": [
      "Hello World!\n"
     ]
    }
   ],
   "source": [
    "# 我们来创建一个名为 hello 的函数\n",
    "def hello():\n",
    "    print(\"Hello World!\")\n",
    "\n",
    "hello()"
   ]
  },
  {
   "cell_type": "markdown",
   "id": "3325a163-5411-4c7e-84db-4b18ae5033e4",
   "metadata": {},
   "source": [
    "hello()的括号中没有任何的参数，这说明了这个函数直接调用就可以了。\n",
    "\n",
    "但是有一些情况之下我们需要传入一些数据来使用，这个时候我们就需要设置参数了："
   ]
  },
  {
   "cell_type": "code",
   "execution_count": 27,
   "id": "35090552-8dda-4647-b85f-a449ecf43e5b",
   "metadata": {},
   "outputs": [
    {
     "name": "stdout",
     "output_type": "stream",
     "text": [
      "Hello, Bob\n"
     ]
    }
   ],
   "source": [
    "def sayHi(name):\n",
    "    print(f\"Hello, {name}\")\n",
    "\n",
    "sayHi(\"Bob\")"
   ]
  },
  {
   "cell_type": "markdown",
   "id": "55f42549-1f47-4572-9833-6a6704ef9a4a",
   "metadata": {},
   "source": [
    "我们来写一个fib函数："
   ]
  },
  {
   "cell_type": "code",
   "execution_count": 28,
   "id": "0a482339-6c98-4834-85ec-48022760a703",
   "metadata": {},
   "outputs": [
    {
     "data": {
      "text/plain": [
       "6765"
      ]
     },
     "execution_count": 28,
     "metadata": {},
     "output_type": "execute_result"
    }
   ],
   "source": [
    "def fib(n):\n",
    "    \n",
    "    a = 0\n",
    "    b = 1\n",
    "    \n",
    "    for i in range(n):\n",
    "        a, b = b, a+b\n",
    "    \n",
    "    return a\n",
    "\n",
    "fib(20)"
   ]
  },
  {
   "cell_type": "markdown",
   "id": "5ab544b2-5f6e-40d5-9065-770f3bed8f3a",
   "metadata": {},
   "source": [
    "那要是我们不知道会有多少个数据被传入呢？"
   ]
  },
  {
   "cell_type": "code",
   "execution_count": 30,
   "id": "ee92f99a-2a47-4005-b679-b2e7b2f9996b",
   "metadata": {},
   "outputs": [
    {
     "data": {
      "text/plain": [
       "3.0"
      ]
     },
     "execution_count": 30,
     "metadata": {},
     "output_type": "execute_result"
    }
   ],
   "source": [
    "def cal_mean(*numbers):\n",
    "    '''这个函数会被用来计算平均值'''\n",
    "    \n",
    "    mean = sum(numbers)/len(numbers)\n",
    "    return mean\n",
    "\n",
    "cal_mean(1, 2, 3, 4, 5)"
   ]
  },
  {
   "cell_type": "markdown",
   "id": "88326738-1ba7-4287-b067-e20d1c865794",
   "metadata": {},
   "source": [
    "我们可以返回多个值："
   ]
  },
  {
   "cell_type": "code",
   "execution_count": 32,
   "id": "5e6152d2-a315-477c-b869-0e7668e3f778",
   "metadata": {},
   "outputs": [
    {
     "name": "stdout",
     "output_type": "stream",
     "text": [
      "15 3.0\n"
     ]
    }
   ],
   "source": [
    "def sum_mean(*number):\n",
    "    \n",
    "    sumValue = sum(number)\n",
    "    mean = sumValue/len(number)\n",
    "    \n",
    "    return sumValue, mean\n",
    "\n",
    "totalValue, meanValue = sum_mean(1, 2, 3, 4, 5)\n",
    "\n",
    "print(totalValue, meanValue)"
   ]
  },
  {
   "cell_type": "markdown",
   "id": "cedb53c7-0041-4b75-bb00-96ebfd29fe6e",
   "metadata": {},
   "source": [
    "## class 类"
   ]
  },
  {
   "cell_type": "markdown",
   "id": "435fb985-eab2-4ce8-ac96-1f6523b8a803",
   "metadata": {},
   "source": [
    "类是用来描述具有相同的属性和方法的对象的集合。\n",
    "\n",
    "一个类中存在着两个部分：\n",
    "\n",
    "1. 方法\n",
    "2. 类变量\n",
    "\n",
    "方法是类中定义的函数，而类变量则是在整个实例化的对象中是公用的。"
   ]
  },
  {
   "cell_type": "code",
   "execution_count": 9,
   "id": "b63f0fe3-6c77-491f-9ac8-be2d249497db",
   "metadata": {},
   "outputs": [],
   "source": [
    "# 我们来创建一个Student类\n",
    "\n",
    "class Student():\n",
    "    ''' 我们来创建一个Student类'''\n",
    "    \n",
    "    def __init__(self, name, age, studentID):\n",
    "        self.name = name\n",
    "        self.age = age\n",
    "        self.studentID = studentID  "
   ]
  },
  {
   "cell_type": "markdown",
   "id": "f5068c6c-e2d8-4a39-bd7b-c2167da3da32",
   "metadata": {},
   "source": [
    "我们在上述代码中创建了一个Student类，这个类会被传入三个变量：name，age和studentID，分别表示学生的名字，年龄和学号。\n",
    "\n",
    "而在这个类中有着一个独特的函数__init__，需要注意init的左右两边分别是两个下划线，而不是一个。\n",
    "\n",
    "函数__init__实际上就是Python的构造方法，用来初始化对象的状态，在一个对象被创建之后会立即调用。"
   ]
  },
  {
   "cell_type": "code",
   "execution_count": 8,
   "id": "f86190b2-fa61-479e-963d-d7e00af704f3",
   "metadata": {},
   "outputs": [
    {
     "name": "stdout",
     "output_type": "stream",
     "text": [
      "Jobs\n",
      "16\n",
      "114514\n"
     ]
    }
   ],
   "source": [
    "student_one = Student(\"Jobs\", 16, 114514)\n",
    "\n",
    "print(student_one.name)\n",
    "print(student_one.age)\n",
    "print(student_one.studentID)"
   ]
  },
  {
   "cell_type": "markdown",
   "id": "c71f480c-5dae-4336-ac72-312b60badeaf",
   "metadata": {},
   "source": [
    "如果没有这个__init__方法，我们需要额外的输入：\n",
    "\n",
    "```\n",
    "student_one.init()\n",
    "```\n",
    "\n",
    "才可以对对象进行初始化。"
   ]
  },
  {
   "cell_type": "markdown",
   "id": "708e4237-093b-4cb5-b081-ece56cef9050",
   "metadata": {},
   "source": [
    "假设我们所有的学生都是part-time的学生，那么当我们创建一个学生对象的时候，我们可以统一的为这些学生给上part-time的标记，这个时候我们就需要类变量了。"
   ]
  },
  {
   "cell_type": "code",
   "execution_count": 10,
   "id": "056a8038-3066-4cd7-b193-9e3e22628b7f",
   "metadata": {},
   "outputs": [],
   "source": [
    "# 我们来创建一个Student类\n",
    "\n",
    "class Student():\n",
    "    ''' 我们来创建一个Student类'''\n",
    "    time_type = \"Part_Time\"\n",
    "    \n",
    "    def __init__(self, name, age, studentID):\n",
    "        self.name = name\n",
    "        self.age = age\n",
    "        self.studentID = studentID  "
   ]
  },
  {
   "cell_type": "markdown",
   "id": "e293518a-7e10-433d-be70-879c436d184e",
   "metadata": {},
   "source": [
    "让我们来测试一下："
   ]
  },
  {
   "cell_type": "code",
   "execution_count": 13,
   "id": "427c9ae2-b30c-4902-882e-e73429d53a97",
   "metadata": {},
   "outputs": [
    {
     "name": "stdout",
     "output_type": "stream",
     "text": [
      "Part_Time\n"
     ]
    }
   ],
   "source": [
    "student_two = Student(\"Bob\", 17, 123)\n",
    "\n",
    "print(student_two.time_type)"
   ]
  },
  {
   "cell_type": "markdown",
   "id": "a28e64da-1a5d-4f10-9ebc-f57f54b79308",
   "metadata": {},
   "source": [
    "接着让我们试着给Student类提供一些函数："
   ]
  },
  {
   "cell_type": "code",
   "execution_count": 7,
   "id": "d7ddec0c-c0e9-459d-8971-52d429b96934",
   "metadata": {},
   "outputs": [],
   "source": [
    "# 我们来提供一些函数\n",
    "\n",
    "class Student():\n",
    "    ''' 我们来创建一个Student类'''\n",
    "    time_type = \"Part_Time\"\n",
    "    \n",
    "    def __init__(self, name, age, studentID):\n",
    "        self.name = name\n",
    "        self.age = age\n",
    "        self.studentID = studentID\n",
    "        \n",
    "    def print_student_information(self):\n",
    "        print(f\"Student's name is {self.name}, Student's age is {self.age}, and Student's id number is {self.studentID}.\")"
   ]
  },
  {
   "cell_type": "markdown",
   "id": "ae4b8c5e-7a27-4233-8539-68191195aaa5",
   "metadata": {},
   "source": [
    "然后让我们调用一下这个函数："
   ]
  },
  {
   "cell_type": "code",
   "execution_count": 8,
   "id": "e7a2cd3d-46fd-4230-812f-d87532656d0e",
   "metadata": {},
   "outputs": [
    {
     "name": "stdout",
     "output_type": "stream",
     "text": [
      "Student's name is Harry, Student's age is 26, and Student's id number is 10215.\n"
     ]
    }
   ],
   "source": [
    "student_three = Student(\"Harry\", 26, 10215)\n",
    "\n",
    "student_three.print_student_information()"
   ]
  },
  {
   "cell_type": "markdown",
   "id": "50a451d7-c3a3-450d-ae8a-3f77dc445489",
   "metadata": {},
   "source": [
    "## inheritance 继承"
   ]
  },
  {
   "cell_type": "markdown",
   "id": "470568cf-f480-43ac-96ad-ec971f0585d5",
   "metadata": {},
   "source": [
    "子类会继承父类的属性和方法。"
   ]
  },
  {
   "cell_type": "code",
   "execution_count": 13,
   "id": "e671f596-0646-48f4-ad92-917813285951",
   "metadata": {},
   "outputs": [],
   "source": [
    "class People():\n",
    "    '''Peopl类别，一个人所具有的内容'''\n",
    "    \n",
    "    def __init__(self, name, age):\n",
    "        self.name = name\n",
    "        self.age = age\n",
    "    \n",
    "    def print_information(self):\n",
    "        print(f\"My name is {self.name} and my age is {self.age}.\")\n",
    "\n",
    "class Student(People):\n",
    "    ''' Student类，继承了People类'''\n",
    "    def __init__(self, name, age, grade):\n",
    "        People.__init__(self, name, age)  # 继承Poeple中的构造函数\n",
    "        self.grade = grade\n",
    "    \n",
    "    # 覆盖父类的方法\n",
    "    def print_information(self):\n",
    "        print(f\"My name is {self.name}, my age is {self.age}, and my grade is {self.grade}\")\n"
   ]
  },
  {
   "cell_type": "markdown",
   "id": "2f56513c-fad8-495c-9832-bab1200125bd",
   "metadata": {},
   "source": [
    "然后让我们尝试一下："
   ]
  },
  {
   "cell_type": "code",
   "execution_count": 15,
   "id": "b7e0ad3d-8639-4d47-84bb-96059b45aa74",
   "metadata": {},
   "outputs": [
    {
     "name": "stdout",
     "output_type": "stream",
     "text": [
      "My name is John, my age is 17, and my grade is 89\n"
     ]
    }
   ],
   "source": [
    "student_four = Student(\"John\", 17, 89)\n",
    "\n",
    "student_four.print_information()"
   ]
  },
  {
   "cell_type": "markdown",
   "id": "7676f572-09cf-49de-8d57-32cd3d8353dc",
   "metadata": {},
   "source": [
    "或者我们可以选择调用父类中的方法。\n",
    "\n",
    "语法为：\n",
    "\n",
    "```\n",
    "super(子类名, 子类创建的对象名).函数\n",
    "```"
   ]
  },
  {
   "cell_type": "code",
   "execution_count": 18,
   "id": "c62791dd-c51c-4866-ac2c-9f2bbe3d8c4d",
   "metadata": {},
   "outputs": [
    {
     "name": "stdout",
     "output_type": "stream",
     "text": [
      "My name is John and my age is 17.\n"
     ]
    }
   ],
   "source": [
    "super(Student, student_four).print_information()"
   ]
  },
  {
   "cell_type": "markdown",
   "id": "39906be1-179f-4f64-803c-590ebd1a3a7e",
   "metadata": {},
   "source": [
    "## 用类写程序"
   ]
  },
  {
   "cell_type": "markdown",
   "id": "a3755754-de1e-4d84-80e4-792a1e67fc14",
   "metadata": {},
   "source": [
    "用类来写一个银行账户的程序："
   ]
  },
  {
   "cell_type": "code",
   "execution_count": 5,
   "id": "476a48a6-5fa1-434f-8dcd-d5e88bdb3ddc",
   "metadata": {},
   "outputs": [],
   "source": [
    "class BankAccount(object):\n",
    "    ''' 银行账户类'''\n",
    "    \n",
    "    def __init__(self, balance=0.0):\n",
    "        self.balance = balance\n",
    "    \n",
    "    def display_balance(self):\n",
    "        print(f\"Your balance is {self.balance}\")\n",
    "    \n",
    "    def make_deposit(self):\n",
    "        amount = float(input(\"How much would you like to deposit?: \"))\n",
    "        self.balance += amount\n",
    "        print(f\"Balance is now {self.balance}.\")\n",
    "    \n",
    "    def make_withdraw(self):\n",
    "        amount = float(input(\"How much would you like to withdraw?: \"))\n",
    "        if amount > self.balance:\n",
    "            print(f\"You do not have sufficient funds, your balance is {self.balance}\")\n",
    "        else:\n",
    "            self.balance -= amount\n",
    "            print(f\"Withdraw successful: balance is now {self.balance}.\")"
   ]
  },
  {
   "cell_type": "markdown",
   "id": "9b07781f-9e45-467a-8884-6c436af40834",
   "metadata": {},
   "source": [
    "我们来测试一下："
   ]
  },
  {
   "cell_type": "code",
   "execution_count": 6,
   "id": "453428e4-6133-4780-99de-eb2c221dba21",
   "metadata": {},
   "outputs": [
    {
     "name": "stdout",
     "output_type": "stream",
     "text": [
      "Your balance is 300\n"
     ]
    }
   ],
   "source": [
    "my_bank = BankAccount(300)\n",
    "\n",
    "my_bank.display_balance()"
   ]
  },
  {
   "cell_type": "code",
   "execution_count": 7,
   "id": "95c6d8a8-4926-4511-86f8-52ee0dc8360b",
   "metadata": {},
   "outputs": [
    {
     "name": "stdin",
     "output_type": "stream",
     "text": [
      "How much would you like to deposit?:  250\n"
     ]
    },
    {
     "name": "stdout",
     "output_type": "stream",
     "text": [
      "Balance is now 550.0.\n"
     ]
    }
   ],
   "source": [
    "my_bank.make_deposit()"
   ]
  },
  {
   "cell_type": "code",
   "execution_count": 8,
   "id": "e5857706-58ec-4ca9-a44a-4a5adc73580f",
   "metadata": {},
   "outputs": [
    {
     "name": "stdin",
     "output_type": "stream",
     "text": [
      "How much would you like to withdraw?:  1000\n"
     ]
    },
    {
     "name": "stdout",
     "output_type": "stream",
     "text": [
      "You do not have sufficient funds, your balance is 550.0\n"
     ]
    }
   ],
   "source": [
    "my_bank.make_withdraw()"
   ]
  },
  {
   "cell_type": "code",
   "execution_count": 9,
   "id": "fabc654f-5342-45fc-9b8f-acf87567fe6b",
   "metadata": {},
   "outputs": [
    {
     "name": "stdin",
     "output_type": "stream",
     "text": [
      "How much would you like to withdraw?:  230\n"
     ]
    },
    {
     "name": "stdout",
     "output_type": "stream",
     "text": [
      "Withdraw successful: balance is now 320.0.\n"
     ]
    }
   ],
   "source": [
    "my_bank.make_withdraw()"
   ]
  }
 ],
 "metadata": {
  "kernelspec": {
   "display_name": "Python 3 (ipykernel)",
   "language": "python",
   "name": "python3"
  },
  "language_info": {
   "codemirror_mode": {
    "name": "ipython",
    "version": 3
   },
   "file_extension": ".py",
   "mimetype": "text/x-python",
   "name": "python",
   "nbconvert_exporter": "python",
   "pygments_lexer": "ipython3",
   "version": "3.10.4"
  }
 },
 "nbformat": 4,
 "nbformat_minor": 5
}
