{
 "cells": [
  {
   "cell_type": "markdown",
   "id": "20d295f5-4a48-4e54-b8ec-2e0892061042",
   "metadata": {},
   "source": [
    "## 关于本课程的信息"
   ]
  },
  {
   "cell_type": "markdown",
   "id": "ee4916e0-7293-4601-ba69-e4562ab571e0",
   "metadata": {
    "jp-MarkdownHeadingCollapsed": true,
    "tags": []
   },
   "source": [
    "网站：https://www.udemy.com/course/the-complete-python-programmer-bootcamp/\n",
    "\n",
    "作者：Giles McMullen-Klein\n",
    "\n",
    "Udemy评分：4.6\n",
    "\n",
    "学生数：16850\n",
    "\n",
    "课程介绍：\n",
    "\n",
    "```\n",
    "\n",
    "面向绝对初学者的 Python教程 2021\n",
    "\n",
    "这门 Python 课程与众不同。它不仅会教你 Python，还会给你一个使用 Python 代码解决问题的超能力！这将使一切变得不同，特别是如果你正在从事数据科学、人工智能、Web 开发、大数据、Web 测试或使用 Python 为智能设备编程的职业。\n",
    "\n",
    "本课程的作者 Giles McMullen-Klein 是一位英国程序员，他曾到牛津大学使用 Python 进行研究。Giles 是 YouTube 上最著名的 Python 和数据科学视频博主之一，有超过 280,000 名订阅者关注他的视频。\n",
    "\n",
    "这门课程与众不同有几个原因，以及为什么 Giles 可以成为你的完美 Python 老师：\n",
    "\n",
    "· 引人入胜、内容丰富且有趣！Giles 的讲座很有趣，会激发你学习 Python\n",
    "\n",
    "· 激励、热情和有效——Giles 对 Python 编码和语言教学的热情具有感染力\n",
    "\n",
    "· 深入了解Python\n",
    "\n",
    "· 精心制作的讲座和高品质的制作（全高清视频）+ 动画和标注\n",
    "\n",
    "· 练习、练习、练习——课程包含数十个练习，帮助您掌握课程中涵盖的 Python 编程概念\n",
    "\n",
    "```"
   ]
  },
  {
   "cell_type": "markdown",
   "id": "0b48671f-9427-450e-b6ad-f3ccb96e6b1f",
   "metadata": {
    "tags": []
   },
   "source": [
    "## Python 环境安装"
   ]
  },
  {
   "cell_type": "markdown",
   "id": "59468b6b-44e2-4ae9-9021-362df3da7f47",
   "metadata": {},
   "source": [
    "首先需要下载和安装Python：\n",
    "\n",
    "https://www.python.org/\n",
    "\n",
    "点击download便可以选择安装最新版本的Python了。\n",
    "\n",
    "不推荐使用Python自带的IDE，而是使用Jetbrain提供的Pycharm：\n",
    "\n",
    "https://www.jetbrains.com/zh-cn/pycharm/\n",
    "\n",
    "以及推荐使用jupyter：\n",
    "```\n",
    "pip3 install jupyter notebook\n",
    "\n",
    "pip3 install jupyter lab\n",
    "\n",
    "```\n",
    "\n",
    "使用jupyter的一个好处在于可以边记录边调试。"
   ]
  }
 ],
 "metadata": {
  "kernelspec": {
   "display_name": "Python 3 (ipykernel)",
   "language": "python",
   "name": "python3"
  },
  "language_info": {
   "codemirror_mode": {
    "name": "ipython",
    "version": 3
   },
   "file_extension": ".py",
   "mimetype": "text/x-python",
   "name": "python",
   "nbconvert_exporter": "python",
   "pygments_lexer": "ipython3",
   "version": "3.10.4"
  }
 },
 "nbformat": 4,
 "nbformat_minor": 5
}
