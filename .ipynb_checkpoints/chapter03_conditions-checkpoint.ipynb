{
 "cells": [
  {
   "cell_type": "markdown",
   "id": "3df47224-3136-4642-9a8e-608c927393c0",
   "metadata": {},
   "source": [
    "## 比较运算符"
   ]
  },
  {
   "cell_type": "markdown",
   "id": "31365376-85f2-4db8-9a09-b4babecb8d7a",
   "metadata": {},
   "source": [
    "Python语言提供了6种常用的比较运算符：\n",
    "\n",
    "1. 用来判断==两边是否相等 == \n",
    "2. 用来判断两个对象是否是不相等的 ！= \n",
    "3. 用来判断左边的值是否大于右边 >\n",
    "4. 用来判断左边的值是否小于右边 <\n",
    "5. 用来判断左边的值是否大于或者等于右边 >= \n",
    "6. 用来判断左边的值是否小于或者等于右边 <= \n",
    "\n",
    "我们可以看以下的几个例子："
   ]
  },
  {
   "cell_type": "code",
   "execution_count": 2,
   "id": "d59c691e-abaa-4a10-b6c1-efe69f7f0fc0",
   "metadata": {},
   "outputs": [
    {
     "name": "stdout",
     "output_type": "stream",
     "text": [
      "False\n",
      "True\n",
      "True\n",
      "False\n",
      "True\n",
      "False\n"
     ]
    }
   ],
   "source": [
    "a = 10\n",
    "b = 20\n",
    "\n",
    "print(a==b)\n",
    "print(a!=b)\n",
    "print(a<b)\n",
    "print(a>b)\n",
    "print(a<=b)\n",
    "print(a>=b)"
   ]
  },
  {
   "cell_type": "markdown",
   "id": "725bb5f9-47da-4e58-a888-c7f96c2f53da",
   "metadata": {},
   "source": [
    "可以发现判断的结果将会是True或者False。"
   ]
  },
  {
   "cell_type": "code",
   "execution_count": 3,
   "id": "25153752-27b4-4c0b-8b0a-9c3a915248ef",
   "metadata": {},
   "outputs": [
    {
     "name": "stdout",
     "output_type": "stream",
     "text": [
      "<class 'bool'>\n",
      "<class 'bool'>\n"
     ]
    }
   ],
   "source": [
    "print(type(False))\n",
    "print(type(True))"
   ]
  },
  {
   "cell_type": "markdown",
   "id": "bfa292b9-7004-40dd-bddc-a8566575ca46",
   "metadata": {},
   "source": [
    "需要注意的是False或者True并不是String类型的变量，而是布尔类型的变量。"
   ]
  },
  {
   "cell_type": "code",
   "execution_count": 4,
   "id": "a1f8ce2f-47c6-4977-889b-36873de79672",
   "metadata": {},
   "outputs": [
    {
     "name": "stdout",
     "output_type": "stream",
     "text": [
      "False\n"
     ]
    }
   ],
   "source": [
    "print(False == \"False\")"
   ]
  },
  {
   "cell_type": "markdown",
   "id": "4063f92e-8f2f-49b7-82fa-8f97e957ed58",
   "metadata": {},
   "source": [
    "从返回值不难发现False和“False”并不相同。"
   ]
  },
  {
   "cell_type": "markdown",
   "id": "b294cc26-6639-4117-96a1-2f94e0e54944",
   "metadata": {},
   "source": [
    "在Python语言中True和1是相同的，而False则是和0相同。"
   ]
  },
  {
   "cell_type": "code",
   "execution_count": 5,
   "id": "2d6ce1d3-dd66-4a1e-9d94-6bbd8eb4901e",
   "metadata": {},
   "outputs": [
    {
     "name": "stdout",
     "output_type": "stream",
     "text": [
      "False\n",
      "True\n",
      "False\n",
      "True\n"
     ]
    }
   ],
   "source": [
    "print(True == 0)\n",
    "print(True == 1)\n",
    "\n",
    "print(False == 1)\n",
    "print(False == 0)"
   ]
  },
  {
   "cell_type": "markdown",
   "id": "3ced17ba-ac1c-4f38-a50d-8d8e16915f06",
   "metadata": {},
   "source": [
    "## 逻辑运算"
   ]
  },
  {
   "cell_type": "markdown",
   "id": "d30cfc20-3d54-45ee-a718-e1bc91d7bd39",
   "metadata": {},
   "source": [
    "Python语言提供了三种逻辑运算符：\n",
    "\n",
    "1. and：只有两边都为True的时候才算作是True\n",
    "2. or：任意一者为True的时候便算作是True\n",
    "3. not：当用来表示“非”\n",
    "\n",
    "例子如下所示："
   ]
  },
  {
   "cell_type": "code",
   "execution_count": 8,
   "id": "9c964d75-6909-4762-9274-b80d2cdae18f",
   "metadata": {},
   "outputs": [
    {
     "name": "stdout",
     "output_type": "stream",
     "text": [
      "At least one of them if True\n",
      "A is not 15\n"
     ]
    }
   ],
   "source": [
    "a = 10\n",
    "b = 20\n",
    "\n",
    "if (a==10 and b==30):\n",
    "    print(\"Both true\")\n",
    "\n",
    "if (a==10 or b==30):\n",
    "    print(\"At least one of them if True\")\n",
    "\n",
    "if not(a==15):\n",
    "    print(\"A is not 15\")"
   ]
  },
  {
   "cell_type": "markdown",
   "id": "9649596a-3180-4802-9915-0e9ec9bfb818",
   "metadata": {},
   "source": [
    "a==15的判断结果为False，但是这里使用了not，所以if之后的结果被判断为了Trule。 "
   ]
  },
  {
   "cell_type": "markdown",
   "id": "ee140c23-bdf2-46c1-a3ec-73b4ef6452d9",
   "metadata": {
    "tags": []
   },
   "source": [
    "## If 语句"
   ]
  },
  {
   "cell_type": "markdown",
   "id": "75e880c0-0daa-4c60-a674-3378f045b80a",
   "metadata": {},
   "source": [
    "在上一个代码中，我们使用了if语句。\n",
    "\n",
    "if语句是一个条件判断语句，当if后面的条件判断为真的时候，将会执行被缩进的语句。\n",
    "\n",
    "在其他语言中，通常会使用{}来将代码括起来用来表示这一段代码属于哪个部分，但是Python语言是使用缩进来表示的。\n",
    "\n",
    "需要注意的地方在于，空格键和TAB建不能够进行混用来表示缩进。"
   ]
  },
  {
   "cell_type": "code",
   "execution_count": 12,
   "id": "cc36c862-18bb-457b-90cd-69343e832e07",
   "metadata": {},
   "outputs": [
    {
     "name": "stdin",
     "output_type": "stream",
     "text": [
      "请猜测一个数字，数字的范围为0～100： 60\n"
     ]
    },
    {
     "name": "stdout",
     "output_type": "stream",
     "text": [
      "你猜错了，你的数字过大了\n"
     ]
    }
   ],
   "source": [
    "num = 50\n",
    "\n",
    "guess_num = int(input(\"请猜测一个数字，数字的范围为0～100：\"))\n",
    "\n",
    "if guess_num > num:\n",
    "    print(\"你猜错了，你的数字过大了\")\n",
    "\n",
    "if guess_num == num:\n",
    "    print(\"你才的刚刚好，数字是50\")\n",
    "\n",
    "if guess_num < num:\n",
    "    print(\"你猜错了，你的数字太小了\")"
   ]
  },
  {
   "cell_type": "markdown",
   "id": "0df05e9b-dd3f-40cc-9517-f6c16358cc31",
   "metadata": {},
   "source": [
    "如果所示是一个具体的代码例子。\n",
    "\n",
    "我们可以对三个if语句来进行重构，将其重构为if-elif-else的形式："
   ]
  },
  {
   "cell_type": "code",
   "execution_count": 19,
   "id": "6a030c71-b202-4a14-bf01-ed2be65b3a84",
   "metadata": {},
   "outputs": [
    {
     "name": "stdin",
     "output_type": "stream",
     "text": [
      "请猜测一个数字，数字的范围为0～100： 20\n"
     ]
    },
    {
     "name": "stdout",
     "output_type": "stream",
     "text": [
      "你猜错了，你的数字太小了\n"
     ]
    }
   ],
   "source": [
    "num = 50\n",
    "\n",
    "guess_num = int(input(\"请猜测一个数字，数字的范围为0～100：\"))\n",
    "\n",
    "if guess_num > num:\n",
    "    print(\"你猜错了，你的数字过大了\")\n",
    "elif guess_num == num:\n",
    "    print(\"你才的刚刚好，数字是50\")\n",
    "else:\n",
    "    print(\"你猜错了，你的数字太小了\")"
   ]
  },
  {
   "cell_type": "markdown",
   "id": "c05f0296-a167-440d-9757-02c0f188e2ba",
   "metadata": {},
   "source": [
    "需要注意的是：在else之后不需要有任何的条件判断，else表示的是除了上面的条件判断之外的所有情况。"
   ]
  },
  {
   "cell_type": "markdown",
   "id": "b2781266-cb8f-4087-a98a-1d90f8c6091b",
   "metadata": {},
   "source": [
    "## for 循环"
   ]
  },
  {
   "cell_type": "markdown",
   "id": "efa081c9-c441-4ccc-a6ee-4fdfebbc7406",
   "metadata": {},
   "source": [
    "for循环将会对任何序列中的项目进行遍历。"
   ]
  },
  {
   "cell_type": "code",
   "execution_count": 20,
   "id": "87357464-92cf-4126-b368-130ccc5e8524",
   "metadata": {},
   "outputs": [
    {
     "name": "stdout",
     "output_type": "stream",
     "text": [
      "0\n",
      "1\n",
      "2\n",
      "3\n",
      "4\n",
      "5\n",
      "6\n",
      "7\n",
      "8\n",
      "9\n"
     ]
    }
   ],
   "source": [
    "for i in range(10):\n",
    "    print(i)"
   ]
  },
  {
   "cell_type": "markdown",
   "id": "1de786a2-dfae-4b29-9584-d1c08867c2a4",
   "metadata": {},
   "source": [
    "从0开始，到10之前结束。"
   ]
  },
  {
   "cell_type": "code",
   "execution_count": 21,
   "id": "bdfb7b12-ab08-4989-85d6-7e33cb0b3650",
   "metadata": {},
   "outputs": [
    {
     "name": "stdout",
     "output_type": "stream",
     "text": [
      "0 1 2 3 4 5 6 7 8 9 "
     ]
    }
   ],
   "source": [
    "for i in range(10):\n",
    "    print(i, end=\" \")"
   ]
  },
  {
   "cell_type": "markdown",
   "id": "65e6a58a-f1cf-4e2f-9465-cda40491204f",
   "metadata": {},
   "source": [
    "或者我们可以从3开始："
   ]
  },
  {
   "cell_type": "code",
   "execution_count": 22,
   "id": "690c8327-eeea-431c-9cc6-79660f772e6d",
   "metadata": {},
   "outputs": [
    {
     "name": "stdout",
     "output_type": "stream",
     "text": [
      "3 4 5 6 7 8 9 "
     ]
    }
   ],
   "source": [
    "for i in range(3, 10):\n",
    "    print(i, end=\" \")"
   ]
  },
  {
   "cell_type": "code",
   "execution_count": 29,
   "id": "11fc8b22-fa5a-43b6-a29e-0b0ed296c879",
   "metadata": {},
   "outputs": [
    {
     "name": "stdout",
     "output_type": "stream",
     "text": [
      "3 5 7 9 11 13 15 17 19 "
     ]
    }
   ],
   "source": [
    "for i in range(3, 20, 2):\n",
    "    print(i, end=\" \")"
   ]
  },
  {
   "cell_type": "markdown",
   "id": "ac51e1b4-fde4-4de8-8717-c468c29a932d",
   "metadata": {},
   "source": [
    "我们也可以将字符串中的每一个字符都打印出来："
   ]
  },
  {
   "cell_type": "code",
   "execution_count": 23,
   "id": "235b2617-2d3a-4df4-b3fd-5b109b9eb9b7",
   "metadata": {},
   "outputs": [
    {
     "name": "stdout",
     "output_type": "stream",
     "text": [
      "a b c d e "
     ]
    }
   ],
   "source": [
    "strTwo = \"abcde\"\n",
    "\n",
    "for char in strTwo:\n",
    "    print(char, end=\" \")"
   ]
  },
  {
   "cell_type": "markdown",
   "id": "ccc280cb-0af4-4199-a8f6-8c06c5a10e8e",
   "metadata": {},
   "source": [
    "## while 循环"
   ]
  },
  {
   "cell_type": "markdown",
   "id": "213fb42b-5a2d-4e84-8587-df82a0dfecee",
   "metadata": {},
   "source": [
    "除了for循环之外，Python开提供了while来进行循环。\n",
    "\n",
    "while循环的逻辑为，当while之后的条件被判断为True的时候，将会执行while循环中的语句，否则的话将不会执行。"
   ]
  },
  {
   "cell_type": "code",
   "execution_count": 28,
   "id": "10f1f32d-f42d-42b7-a90f-954493ad5e04",
   "metadata": {},
   "outputs": [
    {
     "name": "stdout",
     "output_type": "stream",
     "text": [
      "10\n",
      "9\n",
      "8\n",
      "7\n",
      "6\n",
      "5\n",
      "4\n",
      "3\n",
      "2\n",
      "1\n"
     ]
    }
   ],
   "source": [
    "num = 10\n",
    "\n",
    "while num>0:\n",
    "    print(num)\n",
    "    num -= 1"
   ]
  },
  {
   "cell_type": "markdown",
   "id": "5903f692-a86b-4727-a39a-06388c812412",
   "metadata": {},
   "source": [
    "设num的值为10,当num的值大于0的时候，打印num的值，并且将num的值减少1.\n",
    "\n",
    "将num的值减少一是非常重要的一件事情，while循环中的代码必然需要对while之后的条件判断进行改变，否则while循环将会永远的循环下去。"
   ]
  }
 ],
 "metadata": {
  "kernelspec": {
   "display_name": "Python 3 (ipykernel)",
   "language": "python",
   "name": "python3"
  },
  "language_info": {
   "codemirror_mode": {
    "name": "ipython",
    "version": 3
   },
   "file_extension": ".py",
   "mimetype": "text/x-python",
   "name": "python",
   "nbconvert_exporter": "python",
   "pygments_lexer": "ipython3",
   "version": "3.10.4"
  }
 },
 "nbformat": 4,
 "nbformat_minor": 5
}
