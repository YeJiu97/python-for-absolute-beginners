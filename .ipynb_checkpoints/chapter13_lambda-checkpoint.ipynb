{
 "cells": [
  {
   "cell_type": "markdown",
   "id": "d5dcaacb-e027-47a1-8616-3e603b4cbadf",
   "metadata": {},
   "source": [
    "## lambda function"
   ]
  },
  {
   "cell_type": "markdown",
   "id": "94a61188-5358-4473-9d9b-ab972052cb33",
   "metadata": {},
   "source": [
    "lambda是函数的一种简写方式，它们被称之为匿名函数。"
   ]
  },
  {
   "cell_type": "code",
   "execution_count": 1,
   "id": "3ca565d4-009f-44ef-b142-ae6721917ffe",
   "metadata": {},
   "outputs": [],
   "source": [
    "lambda x:x**2\n",
    "\n",
    "f = lambda x:x**2"
   ]
  },
  {
   "cell_type": "code",
   "execution_count": 2,
   "id": "fd810037-c5fe-472d-9889-35fcb027ad2a",
   "metadata": {},
   "outputs": [
    {
     "data": {
      "text/plain": [
       "4"
      ]
     },
     "execution_count": 2,
     "metadata": {},
     "output_type": "execute_result"
    }
   ],
   "source": [
    "f(2)"
   ]
  },
  {
   "cell_type": "code",
   "execution_count": 3,
   "id": "42ba49c1-ebd7-41bf-be1d-49db007b3cca",
   "metadata": {},
   "outputs": [
    {
     "data": {
      "text/plain": [
       "100"
      ]
     },
     "execution_count": 3,
     "metadata": {},
     "output_type": "execute_result"
    }
   ],
   "source": [
    "f(10)"
   ]
  },
  {
   "cell_type": "code",
   "execution_count": 4,
   "id": "d10b7e04-dd38-4bf3-bf0d-de9818fa21a4",
   "metadata": {},
   "outputs": [],
   "source": [
    "g = lambda x,y:x*y"
   ]
  },
  {
   "cell_type": "code",
   "execution_count": 5,
   "id": "204dcf43-3e3b-488b-a722-52d4bb359e4a",
   "metadata": {},
   "outputs": [
    {
     "data": {
      "text/plain": [
       "56"
      ]
     },
     "execution_count": 5,
     "metadata": {},
     "output_type": "execute_result"
    }
   ],
   "source": [
    "g(7, 8)"
   ]
  },
  {
   "cell_type": "markdown",
   "id": "1a54b1f4-67ca-4456-bce5-34524d2bf33c",
   "metadata": {},
   "source": [
    "我们将lambda和sort进行相互结合："
   ]
  },
  {
   "cell_type": "code",
   "execution_count": 6,
   "id": "4f5383cb-fcb1-46dd-b59a-079b98487709",
   "metadata": {},
   "outputs": [],
   "source": [
    "my_list = {\"one\", \"two\", \"three\", \"four\", \"five\", \"six\", \"seven\", \"neight\", \"nine\"}"
   ]
  },
  {
   "cell_type": "code",
   "execution_count": 7,
   "id": "e4df3b94-46d4-4956-9ccc-a7795c1fc256",
   "metadata": {},
   "outputs": [
    {
     "data": {
      "text/plain": [
       "['five', 'four', 'neight', 'nine', 'one', 'seven', 'six', 'three', 'two']"
      ]
     },
     "execution_count": 7,
     "metadata": {},
     "output_type": "execute_result"
    }
   ],
   "source": [
    "sorted(my_list)"
   ]
  },
  {
   "cell_type": "markdown",
   "id": "a524f664-400a-4ffa-bd67-89cf5ce4a117",
   "metadata": {},
   "source": [
    "这个排序的结果是字符串的第一个字母的大小。"
   ]
  },
  {
   "cell_type": "code",
   "execution_count": 8,
   "id": "2dbfebec-309a-4a4c-b634-6c759295dd5d",
   "metadata": {},
   "outputs": [
    {
     "data": {
      "text/plain": [
       "['one', 'nine', 'three', 'five', 'seven', 'two', 'four', 'neight', 'six']"
      ]
     },
     "execution_count": 8,
     "metadata": {},
     "output_type": "execute_result"
    }
   ],
   "source": [
    "sorted(my_list, key = lambda x:x[-1])"
   ]
  },
  {
   "cell_type": "markdown",
   "id": "e6cbfd6a-84d9-4bf5-be4a-e5a40e379718",
   "metadata": {},
   "source": [
    "这样我们选取的是字符串的最后一个字符。"
   ]
  },
  {
   "cell_type": "markdown",
   "id": "7480b598-951c-4b3e-b5a2-0c4409f7f315",
   "metadata": {},
   "source": [
    "我们再来尝试一下这一列表："
   ]
  },
  {
   "cell_type": "code",
   "execution_count": 9,
   "id": "62c9266b-f2ec-4b15-9a9f-8f40c29de528",
   "metadata": {},
   "outputs": [],
   "source": [
    "another_list = [(1, 'one'), (2, 'two'), (3, 'three'), (4, 'four')]"
   ]
  },
  {
   "cell_type": "code",
   "execution_count": 11,
   "id": "d0cfaba7-88bf-437c-9f37-5fbefd992eeb",
   "metadata": {},
   "outputs": [
    {
     "data": {
      "text/plain": [
       "[(1, 'one'), (2, 'two'), (3, 'three'), (4, 'four')]"
      ]
     },
     "execution_count": 11,
     "metadata": {},
     "output_type": "execute_result"
    }
   ],
   "source": [
    "sorted(another_list)"
   ]
  },
  {
   "cell_type": "code",
   "execution_count": 12,
   "id": "53f8e372-3528-4588-a97a-46d560d43073",
   "metadata": {},
   "outputs": [
    {
     "data": {
      "text/plain": [
       "[(4, 'four'), (1, 'one'), (3, 'three'), (2, 'two')]"
      ]
     },
     "execution_count": 12,
     "metadata": {},
     "output_type": "execute_result"
    }
   ],
   "source": [
    "sorted(another_list, key = lambda x:x[1])"
   ]
  }
 ],
 "metadata": {
  "kernelspec": {
   "display_name": "Python 3 (ipykernel)",
   "language": "python",
   "name": "python3"
  },
  "language_info": {
   "codemirror_mode": {
    "name": "ipython",
    "version": 3
   },
   "file_extension": ".py",
   "mimetype": "text/x-python",
   "name": "python",
   "nbconvert_exporter": "python",
   "pygments_lexer": "ipython3",
   "version": "3.10.4"
  }
 },
 "nbformat": 4,
 "nbformat_minor": 5
}
