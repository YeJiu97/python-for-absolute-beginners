{
 "cells": [
  {
   "cell_type": "markdown",
   "id": "d9743a2d-1e3e-4ab8-b022-a4ec7827fbf8",
   "metadata": {},
   "source": [
    "## Big O"
   ]
  },
  {
   "cell_type": "markdown",
   "id": "5126a810-aead-48be-a0f4-a183f6328453",
   "metadata": {},
   "source": [
    "大O符号也被称之为叫做渐进符号，用来描述一个函数的数量级的渐进上届。\n",
    "\n",
    "在计算机中，被用来分析算法复杂性。\n",
    "\n",
    "由于程序的运行环境和输入规模等因素的影响，代码的绝对运行时间是无法进行直接估计的，但是我们可以使用代码的基本执行次数来进行测量。"
   ]
  },
  {
   "cell_type": "markdown",
   "id": "b729698a-564c-465f-a7e6-2f2bec82ca61",
   "metadata": {},
   "source": [
    "## O(1)"
   ]
  },
  {
   "cell_type": "markdown",
   "id": "5b0c31ee-2590-47bc-a4b2-327472de09eb",
   "metadata": {},
   "source": [
    "O(1)表示，无论代码执行了多少行，只要灭有循环等结构，那么这个代码的时间复杂度便是O(1)。"
   ]
  },
  {
   "cell_type": "code",
   "execution_count": 2,
   "id": "b76222d4-d05e-4934-9d78-866bdc586640",
   "metadata": {},
   "outputs": [
    {
     "name": "stdout",
     "output_type": "stream",
     "text": [
      "12\n"
     ]
    }
   ],
   "source": [
    "# 这是一个例子\n",
    "num = 1\n",
    "\n",
    "num += 1\n",
    "num += 1\n",
    "num += 1\n",
    "num += 1\n",
    "num += 1\n",
    "num += 1\n",
    "num += 1\n",
    "num += 1\n",
    "num += 1\n",
    "num += 1\n",
    "num += 1\n",
    "\n",
    "print(num)"
   ]
  },
  {
   "cell_type": "markdown",
   "id": "8244852a-801e-466e-a427-0452b240e48a",
   "metadata": {},
   "source": [
    "在上述代码中，无论num这个变量被怎么修改，代码的执行此书都不会被改变，那么这个代码的时间复杂度就是O(1)。"
   ]
  },
  {
   "cell_type": "markdown",
   "id": "19f705eb-ccff-4f52-857d-4bb0a416ebea",
   "metadata": {},
   "source": [
    "## O(n)"
   ]
  },
  {
   "cell_type": "markdown",
   "id": "1e65fdc8-c9ce-4bb8-b576-cd0929588b04",
   "metadata": {},
   "source": [
    "O(n)表示数据量增大几倍，消耗也会随之而增大几倍。"
   ]
  },
  {
   "cell_type": "code",
   "execution_count": 3,
   "id": "41cde13f-5467-4da2-931f-151936ac4f18",
   "metadata": {},
   "outputs": [
    {
     "name": "stdout",
     "output_type": "stream",
     "text": [
      "0\n",
      "1\n",
      "2\n",
      "3\n",
      "4\n",
      "5\n",
      "6\n",
      "7\n",
      "8\n",
      "9\n"
     ]
    }
   ],
   "source": [
    "n = 10\n",
    "for i in range(n):\n",
    "    print(i)"
   ]
  },
  {
   "cell_type": "markdown",
   "id": "a1c49510-23a1-483a-8b35-18daf083753f",
   "metadata": {},
   "source": [
    "在这一段代码中，变量n如果增大了2倍："
   ]
  },
  {
   "cell_type": "code",
   "execution_count": 4,
   "id": "1a5bcba4-752e-4507-9183-57b7f7154729",
   "metadata": {},
   "outputs": [
    {
     "name": "stdout",
     "output_type": "stream",
     "text": [
      "0\n",
      "1\n",
      "2\n",
      "3\n",
      "4\n",
      "5\n",
      "6\n",
      "7\n",
      "8\n",
      "9\n",
      "10\n",
      "11\n",
      "12\n",
      "13\n",
      "14\n",
      "15\n",
      "16\n",
      "17\n",
      "18\n",
      "19\n"
     ]
    }
   ],
   "source": [
    "n = 20\n",
    "for i in range(n):\n",
    "    print(i)"
   ]
  },
  {
   "cell_type": "markdown",
   "id": "2c904c67-b0e0-4e98-854c-fbe25cba59dd",
   "metadata": {},
   "source": [
    "可以发现输为原先的2倍，这也就意味着数据量增大n倍的时候，执行次数也会因此而增大2倍。"
   ]
  },
  {
   "cell_type": "markdown",
   "id": "caced74d-bbc0-4a2c-8320-bb184c7c9277",
   "metadata": {},
   "source": [
    "## O(n^2)"
   ]
  },
  {
   "cell_type": "markdown",
   "id": "80a918c5-f143-49ea-a34f-55b22c108671",
   "metadata": {},
   "source": [
    "如果把 O(n) 的代码再嵌套循环一遍，它的时间复杂度就是 O(n²) 了。"
   ]
  },
  {
   "cell_type": "code",
   "execution_count": 7,
   "id": "db053676-2b77-486e-bd8d-75900cd23cbd",
   "metadata": {},
   "outputs": [
    {
     "name": "stdout",
     "output_type": "stream",
     "text": [
      "0\n",
      "1\n",
      "2\n",
      "3\n",
      "4\n",
      "0\n",
      "1\n",
      "2\n",
      "3\n",
      "4\n",
      "0\n",
      "1\n",
      "2\n",
      "3\n",
      "4\n",
      "0\n",
      "1\n",
      "2\n",
      "3\n",
      "4\n",
      "0\n",
      "1\n",
      "2\n",
      "3\n",
      "4\n"
     ]
    }
   ],
   "source": [
    "n = 5\n",
    "\n",
    "for i in range(n):\n",
    "    for j in range(n):\n",
    "        print(j)"
   ]
  },
  {
   "cell_type": "markdown",
   "id": "3c8dd0ac-3bca-4bd3-a324-8e25d8dcf60f",
   "metadata": {},
   "source": [
    "如果我们将n扩大2倍："
   ]
  },
  {
   "cell_type": "code",
   "execution_count": 8,
   "id": "6b6e89f3-22d8-46cd-ba24-0fec385d13f6",
   "metadata": {},
   "outputs": [
    {
     "name": "stdout",
     "output_type": "stream",
     "text": [
      "0\n",
      "1\n",
      "2\n",
      "3\n",
      "4\n",
      "5\n",
      "6\n",
      "7\n",
      "8\n",
      "9\n",
      "0\n",
      "1\n",
      "2\n",
      "3\n",
      "4\n",
      "5\n",
      "6\n",
      "7\n",
      "8\n",
      "9\n",
      "0\n",
      "1\n",
      "2\n",
      "3\n",
      "4\n",
      "5\n",
      "6\n",
      "7\n",
      "8\n",
      "9\n",
      "0\n",
      "1\n",
      "2\n",
      "3\n",
      "4\n",
      "5\n",
      "6\n",
      "7\n",
      "8\n",
      "9\n",
      "0\n",
      "1\n",
      "2\n",
      "3\n",
      "4\n",
      "5\n",
      "6\n",
      "7\n",
      "8\n",
      "9\n",
      "0\n",
      "1\n",
      "2\n",
      "3\n",
      "4\n",
      "5\n",
      "6\n",
      "7\n",
      "8\n",
      "9\n",
      "0\n",
      "1\n",
      "2\n",
      "3\n",
      "4\n",
      "5\n",
      "6\n",
      "7\n",
      "8\n",
      "9\n",
      "0\n",
      "1\n",
      "2\n",
      "3\n",
      "4\n",
      "5\n",
      "6\n",
      "7\n",
      "8\n",
      "9\n",
      "0\n",
      "1\n",
      "2\n",
      "3\n",
      "4\n",
      "5\n",
      "6\n",
      "7\n",
      "8\n",
      "9\n",
      "0\n",
      "1\n",
      "2\n",
      "3\n",
      "4\n",
      "5\n",
      "6\n",
      "7\n",
      "8\n",
      "9\n"
     ]
    }
   ],
   "source": [
    "n = 10\n",
    "\n",
    "for i in range(n):\n",
    "    for j in range(n):\n",
    "        print(j)"
   ]
  },
  {
   "cell_type": "markdown",
   "id": "85821001-5328-455e-b954-ffccfcffd2fc",
   "metadata": {},
   "source": [
    "同理，如果我们嵌套三层循环，那么就是O(n^3)的复杂度。"
   ]
  },
  {
   "cell_type": "markdown",
   "id": "dbecef01-7136-44fb-b83a-7382b2df88d8",
   "metadata": {},
   "source": [
    "如果我们不采用n而是采用n和m，那么："
   ]
  },
  {
   "cell_type": "code",
   "execution_count": 10,
   "id": "5394981f-11cf-4048-92ac-d617a07ec796",
   "metadata": {},
   "outputs": [
    {
     "name": "stdout",
     "output_type": "stream",
     "text": [
      "0\n",
      "1\n",
      "2\n",
      "3\n",
      "4\n",
      "5\n",
      "6\n",
      "7\n",
      "8\n",
      "9\n",
      "0\n",
      "1\n",
      "2\n",
      "3\n",
      "4\n",
      "5\n",
      "6\n",
      "7\n",
      "8\n",
      "9\n",
      "0\n",
      "1\n",
      "2\n",
      "3\n",
      "4\n",
      "5\n",
      "6\n",
      "7\n",
      "8\n",
      "9\n",
      "0\n",
      "1\n",
      "2\n",
      "3\n",
      "4\n",
      "5\n",
      "6\n",
      "7\n",
      "8\n",
      "9\n",
      "0\n",
      "1\n",
      "2\n",
      "3\n",
      "4\n",
      "5\n",
      "6\n",
      "7\n",
      "8\n",
      "9\n"
     ]
    }
   ],
   "source": [
    "n = 5\n",
    "m = 10\n",
    "\n",
    "for i in range(n):\n",
    "    for j in range(m):\n",
    "        print(j)"
   ]
  },
  {
   "cell_type": "markdown",
   "id": "b22e7640-7e96-4571-badd-ade0c56ce412",
   "metadata": {},
   "source": [
    "这个时候时间复杂度就是O(n*m)。"
   ]
  },
  {
   "cell_type": "markdown",
   "id": "90f8cb02-f5fd-4e61-ae1c-bfb6c8f5089a",
   "metadata": {},
   "source": [
    "## 凯撒密码"
   ]
  },
  {
   "attachments": {
    "90e664d3-34ce-41cf-805b-551e8fbf31fe.png": {
     "image/png": "[encoded data removed]"
    }
   },
   "cell_type": "markdown",
   "id": "e2b3d94f-7a1b-4efa-989b-21a3dc0cb3c8",
   "metadata": {},
   "source": [
    "凯撒密码的逻辑如下所示：\n",
    "\n",
    "凯撒密码的逻辑如下所示：\n",
    "\n",
    "1. 有着明文语句\n",
    "2. 有着一份字母表\n",
    "3. 将明文语句中的每一个字符按照固定的映射通过字母表进行替换\n",
    "\n",
    "如下图：\n",
    "![image.png](attachment:90e664d3-34ce-41cf-805b-551e8fbf31fe.png)"
   ]
  },
  {
   "cell_type": "code",
   "execution_count": 11,
   "id": "1e198f3f-e24d-49c2-b075-e8cd0893c808",
   "metadata": {},
   "outputs": [],
   "source": [
    "# 首先我们需要一个字母表\n",
    "\n",
    "alphabet = \"abcdefghijklmnopqrstuvwxwz\""
   ]
  },
  {
   "cell_type": "code",
   "execution_count": 12,
   "id": "48aa9b57-5023-4bce-8136-6485f5cb4291",
   "metadata": {},
   "outputs": [
    {
     "name": "stdin",
     "output_type": "stream",
     "text": [
      "Please enter your setence here:  Hello\n"
     ]
    }
   ],
   "source": [
    "str_statement = str(input(\"Please enter your setence here: \"))"
   ]
  },
  {
   "cell_type": "code",
   "execution_count": 15,
   "id": "1c457086-4fa2-417a-9147-a8183f075e92",
   "metadata": {},
   "outputs": [
    {
     "name": "stdin",
     "output_type": "stream",
     "text": [
      "What is the number?: 4\n"
     ]
    }
   ],
   "source": [
    "# 让用户决定切换几个位置\n",
    "index = int(input(\"What is the number?:\"))"
   ]
  },
  {
   "cell_type": "code",
   "execution_count": 19,
   "id": "01989b58-3db8-45e8-9e01-a3a79991ba8c",
   "metadata": {},
   "outputs": [
    {
     "name": "stdout",
     "output_type": "stream",
     "text": [
      "dipps\n"
     ]
    }
   ],
   "source": [
    "# 我们需要将输出的结果进行存储\n",
    "\n",
    "output = \"\"\n",
    "\n",
    "for char in str_statement:\n",
    "    alpha_index = alphabet.find(char)  # find()会返回字符出现的索引位置\n",
    "    output = output + alphabet[alpha_index + index]  # 将对应位置的字符添加进去\n",
    "\n",
    "print(output)"
   ]
  },
  {
   "cell_type": "markdown",
   "id": "a9796aeb-6e8c-4923-ad47-57835fbe166f",
   "metadata": {},
   "source": [
    "凯撒密码并不是什么强力的加密方式，不推荐在实际中进行使用。"
   ]
  },
  {
   "cell_type": "markdown",
   "id": "603ce746-8404-4509-b815-cf7854c34a46",
   "metadata": {},
   "source": [
    "## Two Sum 算法"
   ]
  },
  {
   "cell_type": "markdown",
   "id": "f1117bf4-0405-4c4e-a0bf-231f8a6bad91",
   "metadata": {},
   "source": [
    "two sum算法的逻辑如下所示：\n",
    "\n",
    "1. 给出一个列表\n",
    "2. 给出一个指定的数字\n",
    "3. 查看这列表中是否存在着两个数字能够让两者的和等于这个指定的数字\n",
    "4. 如果有，返回两者的坐标；如果没有，返回None\n",
    "\n",
    "代码如下所示："
   ]
  },
  {
   "cell_type": "code",
   "execution_count": 35,
   "id": "886efef4-2d27-4d49-96fd-a35338dc41a9",
   "metadata": {},
   "outputs": [],
   "source": [
    "list_one = [1, 2, 3, 4, 5, 6, 7, 8, 9, 10, 11, 12, 13, 14, 15, 16, 17, 18, 19]\n",
    "\n",
    "def two_sum(nums, target_number):\n",
    "    for i in range(len(nums)):\n",
    "        for j in range(i+1, len(nums)):\n",
    "            if (nums[i]+nums[j] == target_number):\n",
    "                return [i, j]"
   ]
  },
  {
   "cell_type": "code",
   "execution_count": 37,
   "id": "fdc50259-59ec-432a-bdac-9e5c4a3e2fe8",
   "metadata": {},
   "outputs": [
    {
     "name": "stdout",
     "output_type": "stream",
     "text": [
      "[1, 18]\n"
     ]
    }
   ],
   "source": [
    "list_index = two_sum(list_one, 21)\n",
    "\n",
    "print(list_index)"
   ]
  },
  {
   "cell_type": "markdown",
   "id": "7381d4a8-2655-4668-b253-cb14b84cf0b9",
   "metadata": {},
   "source": [
    "如上是一种暴力穷举的方法。"
   ]
  },
  {
   "cell_type": "markdown",
   "id": "d391a096-e30f-4e67-b0c4-10519afcd469",
   "metadata": {},
   "source": [
    "我们还可以使用哈希法来进行："
   ]
  },
  {
   "cell_type": "code",
   "execution_count": 44,
   "id": "ba5117e3-257b-4e60-a136-ba633eef3ad3",
   "metadata": {},
   "outputs": [],
   "source": [
    "def twoSum(nums, target_number):\n",
    "    \n",
    "    hashTable = {}  # 首先创建一个哈希表，也就是字典\n",
    "    length = len(nums)  # 接着测量列表的长度\n",
    "    \n",
    "    for i in range(length):\n",
    "        hashTable[nums[i]] = i  # 将列表中的每一个数字和对因的index都存储到字典中\n",
    "    \n",
    "    for i in range(length):  # 开始进行遍历\n",
    "        # 如果存在着目标值和当前值的差，并且不等于当前值\n",
    "        if target_number- nums[i] in hashTable and hashTable[target_number - nums[i]] != i:\n",
    "            return [i, hashTable[target_number - nums[i]]]  # 将两者的index进行返回\n",
    "    \n",
    "    return -1  # 如果没有则返回-1"
   ]
  },
  {
   "cell_type": "code",
   "execution_count": 45,
   "id": "1e3cf42f-f8d2-43b5-b021-4a8c2ed59226",
   "metadata": {},
   "outputs": [
    {
     "name": "stdout",
     "output_type": "stream",
     "text": [
      "[2, 11]\n"
     ]
    }
   ],
   "source": [
    "list_two = [1, 2, 3, 4, 5, 6, 7, 8, 9, 10, 11, 12]\n",
    "\n",
    "list_index_two = twoSum(list_two, 15)\n",
    "\n",
    "print(list_index_two)"
   ]
  }
 ],
 "metadata": {
  "kernelspec": {
   "display_name": "Python 3 (ipykernel)",
   "language": "python",
   "name": "python3"
  },
  "language_info": {
   "codemirror_mode": {
    "name": "ipython",
    "version": 3
   },
   "file_extension": ".py",
   "mimetype": "text/x-python",
   "name": "python",
   "nbconvert_exporter": "python",
   "pygments_lexer": "ipython3",
   "version": "3.10.4"
  }
 },
 "nbformat": 4,
 "nbformat_minor": 5
}
