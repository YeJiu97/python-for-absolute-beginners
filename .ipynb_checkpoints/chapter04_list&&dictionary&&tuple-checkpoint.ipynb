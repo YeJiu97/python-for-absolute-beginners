{
 "cells": [
  {
   "cell_type": "markdown",
   "id": "ad77e82b-7536-4f42-88e8-e0f08bcc69b4",
   "metadata": {},
   "source": [
    "## list 列表"
   ]
  },
  {
   "cell_type": "markdown",
   "id": "1b8b9fb5-be11-4e0d-acf6-2dceec8ebab4",
   "metadata": {},
   "source": [
    "列表是Python中的最基础的数据结构，列表中的元素并不需要是相同的数据类型。"
   ]
  },
  {
   "cell_type": "code",
   "execution_count": 5,
   "id": "8619a3f6-e464-42ab-9c67-17de05000ad8",
   "metadata": {},
   "outputs": [
    {
     "name": "stdout",
     "output_type": "stream",
     "text": [
      "[1, 2, 3, 'four', 5]\n"
     ]
    }
   ],
   "source": [
    "five = 5\n",
    "\n",
    "listOne = [1, 2, 3, \"four\", five]\n",
    "\n",
    "print(listOne)"
   ]
  },
  {
   "cell_type": "markdown",
   "id": "aa2987c9-f42b-4380-90e6-fa48d9d2b62f",
   "metadata": {},
   "source": [
    "与字符串的索引一样，列表的索引从0开始，并且列表可以进行截取。"
   ]
  },
  {
   "cell_type": "code",
   "execution_count": 6,
   "id": "9d63000c-51fd-40c7-b80f-3b72f590ae2e",
   "metadata": {},
   "outputs": [
    {
     "name": "stdout",
     "output_type": "stream",
     "text": [
      "1\n",
      "[2, 3]\n"
     ]
    }
   ],
   "source": [
    "print(listOne[0])\n",
    "\n",
    "print(listOne[1:3])"
   ]
  },
  {
   "cell_type": "code",
   "execution_count": 7,
   "id": "a06a333a-9810-447a-92c8-54e21a3c6ad9",
   "metadata": {},
   "outputs": [
    {
     "name": "stdout",
     "output_type": "stream",
     "text": [
      "[2, 'four']\n"
     ]
    }
   ],
   "source": [
    "print(listOne[1:4:2])"
   ]
  },
  {
   "cell_type": "markdown",
   "id": "70a73786-b315-4bac-b71f-b48ede34b275",
   "metadata": {},
   "source": [
    "我们可以使用append()函数来向一个列表的最后添加一个新的元素："
   ]
  },
  {
   "cell_type": "code",
   "execution_count": 8,
   "id": "b5d7a9b4-23ae-4592-a3f6-a48ebbb629fd",
   "metadata": {},
   "outputs": [
    {
     "name": "stdout",
     "output_type": "stream",
     "text": [
      "['One']\n"
     ]
    }
   ],
   "source": [
    "listTwo = []\n",
    "\n",
    "listTwo.append(\"One\")\n",
    "print(listTwo)"
   ]
  },
  {
   "cell_type": "markdown",
   "id": "ee538754-29ea-455b-a3e1-297d0cf66e73",
   "metadata": {},
   "source": [
    "或者我们可以使用del来删除列表中的元素："
   ]
  },
  {
   "cell_type": "code",
   "execution_count": 9,
   "id": "d3b6eac9-77c4-482c-8bde-f2b48031bd3b",
   "metadata": {},
   "outputs": [
    {
     "name": "stdout",
     "output_type": "stream",
     "text": [
      "[1, 3, 4]\n"
     ]
    }
   ],
   "source": [
    "listThree = [1, 2, 3, 4]\n",
    "\n",
    "del listThree[1]\n",
    "print(listThree)"
   ]
  },
  {
   "cell_type": "markdown",
   "id": "a7c52d05-1dfe-4523-8774-4f97a0e4c11d",
   "metadata": {},
   "source": [
    "或者我们可以使用remove()函数来移除制定的元素："
   ]
  },
  {
   "cell_type": "code",
   "execution_count": 10,
   "id": "0f7f0bc2-ac00-4721-9903-6ae57945e62e",
   "metadata": {},
   "outputs": [
    {
     "name": "stdout",
     "output_type": "stream",
     "text": [
      "[1, 3]\n"
     ]
    }
   ],
   "source": [
    "listThree.remove(4)\n",
    "\n",
    "print(listThree)"
   ]
  },
  {
   "cell_type": "markdown",
   "id": "de7c3b56-7a87-4141-a2e7-940fb203d6c8",
   "metadata": {},
   "source": [
    "我们可以使用max()和min()两个函数来查找list中的最大值和最小值："
   ]
  },
  {
   "cell_type": "code",
   "execution_count": 11,
   "id": "53e90844-e155-4f29-8596-bbd9a83167a2",
   "metadata": {},
   "outputs": [
    {
     "name": "stdout",
     "output_type": "stream",
     "text": [
      "10\n",
      "1\n"
     ]
    }
   ],
   "source": [
    "listFour = [1, 2, 3, 4, 5, 6, 7, 8, 9, 10]\n",
    "\n",
    "print(max(listFour))\n",
    "print(min(listFour))"
   ]
  },
  {
   "cell_type": "markdown",
   "id": "65da6ea3-73ac-4b83-bc29-52fba2efeac4",
   "metadata": {},
   "source": [
    "我们还可以使用sun()来对list中的所有元素进行求和。"
   ]
  },
  {
   "cell_type": "code",
   "execution_count": 12,
   "id": "a004838c-0633-4a52-85ab-ff1087f050a2",
   "metadata": {},
   "outputs": [
    {
     "name": "stdout",
     "output_type": "stream",
     "text": [
      "55\n"
     ]
    }
   ],
   "source": [
    "print(sum(listFour))"
   ]
  },
  {
   "cell_type": "markdown",
   "id": "e230d5e1-74e7-44e5-b1d6-e96fe2034807",
   "metadata": {},
   "source": [
    "我们可以将for循环和list进行相互结合："
   ]
  },
  {
   "cell_type": "code",
   "execution_count": 13,
   "id": "e70a13bc-90f9-4630-989c-617175b33fba",
   "metadata": {},
   "outputs": [
    {
     "name": "stdout",
     "output_type": "stream",
     "text": [
      "15\n"
     ]
    }
   ],
   "source": [
    "listFive = [1, 2, 3, 4, 5]\n",
    "\n",
    "sum = 0\n",
    "for num in listFive:\n",
    "    sum = sum+num\n",
    "\n",
    "print(sum)"
   ]
  },
  {
   "cell_type": "markdown",
   "id": "7d1b4417-4a3f-474f-8572-d270220b4e5e",
   "metadata": {},
   "source": [
    "我们可以使用for循环来实现一个冒泡排序："
   ]
  },
  {
   "cell_type": "code",
   "execution_count": 14,
   "id": "83119b0e-d0ec-4e9b-b8c2-234b0d6cb9d6",
   "metadata": {},
   "outputs": [
    {
     "name": "stdout",
     "output_type": "stream",
     "text": [
      "[1, 2, 3, 4, 5, 7, 8, 9]\n"
     ]
    }
   ],
   "source": [
    "listSix = [5, 2, 3, 4, 1, 8, 7, 9]\n",
    "\n",
    "# 对listSix进行遍历\n",
    "for i in range(len(listSix)):\n",
    "    for j in range(0, len(listSix)-i-1):\n",
    "        if listSix[j] > listSix[j+1]:\n",
    "            listSix[j], listSix[j+1] = listSix[j+1], listSix[j]\n",
    "\n",
    "print(listSix)"
   ]
  },
  {
   "cell_type": "markdown",
   "id": "5377fb52-b2f3-4da8-8ffe-69811e1b826b",
   "metadata": {},
   "source": [
    "不过Python也提供了内置的排序函数sorted()"
   ]
  },
  {
   "cell_type": "code",
   "execution_count": 15,
   "id": "a1845b8c-303b-4532-8673-98664c7a7028",
   "metadata": {},
   "outputs": [
    {
     "name": "stdout",
     "output_type": "stream",
     "text": [
      "[9, 8, 7, 5, 4, 3, 2, 1]\n"
     ]
    }
   ],
   "source": [
    "listSeven = [5, 2, 3, 4, 1, 8, 7, 9]\n",
    "\n",
    "print(sorted(listSeven, reverse = True))"
   ]
  },
  {
   "cell_type": "markdown",
   "id": "50bbe3f0-a910-4f73-b292-936e83281283",
   "metadata": {},
   "source": [
    "或者我们使用sort()函数："
   ]
  },
  {
   "cell_type": "code",
   "execution_count": 16,
   "id": "988eebf5-11a0-4b3f-a3b6-f56fec8bab23",
   "metadata": {},
   "outputs": [
    {
     "name": "stdout",
     "output_type": "stream",
     "text": [
      "[9, 8, 7, 5, 4, 3, 2, 1]\n"
     ]
    }
   ],
   "source": [
    "listEight = [5, 2, 3, 4, 1, 8, 7, 9]\n",
    "\n",
    "listEight.sort(reverse=True)\n",
    "print(listEight)"
   ]
  },
  {
   "cell_type": "markdown",
   "id": "d6e62658-119c-422c-8508-f30cb8a2ebd7",
   "metadata": {},
   "source": [
    "我们可以将while循环和list进行相互结合："
   ]
  },
  {
   "cell_type": "code",
   "execution_count": 17,
   "id": "2247869a-9aed-43cd-88ba-ad0a02b614f9",
   "metadata": {},
   "outputs": [
    {
     "name": "stdout",
     "output_type": "stream",
     "text": [
      "You can enter 'n' to stop entering.\n"
     ]
    },
    {
     "name": "stdin",
     "output_type": "stream",
     "text": [
      "Please enter the name of student:  Jobs\n",
      "Next name?: Bob\n",
      "Next name?: n\n"
     ]
    },
    {
     "name": "stdout",
     "output_type": "stream",
     "text": [
      "In that class, the are ['Jobs', 'Bob']\n"
     ]
    }
   ],
   "source": [
    "class_name_list = []\n",
    "\n",
    "print(\"You can enter 'n' to stop entering.\")\n",
    "name = input(\"Please enter the name of student: \")\n",
    "\n",
    "while name != \"n\":\n",
    "    class_name_list.append(name)\n",
    "    name = input(\"Next name?:\")\n",
    "\n",
    "print(f'In that class, the are {class_name_list}')"
   ]
  },
  {
   "cell_type": "markdown",
   "id": "5177a15a-e3ff-4831-ae63-d39ae66c9060",
   "metadata": {},
   "source": [
    "## Challenge"
   ]
  },
  {
   "cell_type": "markdown",
   "id": "ed3439f2-2e3b-4226-9e1d-fcb273f95233",
   "metadata": {},
   "source": [
    "程序要求：\n",
    "\n",
    "1. 让用户输入两个数字\n",
    "2. 两个数字需要在1～100之间，包括1和100\n",
    "3. 如果用户的数字不再1～100之间或者两个数字相等，要求用户重新输入\n",
    "4. 从小到大打印出来用户输入的数字（用户可能先输入大的数字）"
   ]
  },
  {
   "cell_type": "code",
   "execution_count": 18,
   "id": "bde7022f-3c86-41ac-b75a-c0de6fe6f5ac",
   "metadata": {},
   "outputs": [
    {
     "name": "stdin",
     "output_type": "stream",
     "text": [
      "Please enter a numbter between 1 and 100:  20\n",
      "Please enter a number between 1 and 100: 30\n"
     ]
    },
    {
     "name": "stdout",
     "output_type": "stream",
     "text": [
      "20\n",
      "21\n",
      "22\n",
      "23\n",
      "24\n",
      "25\n",
      "26\n",
      "27\n",
      "28\n",
      "29\n",
      "30\n"
     ]
    }
   ],
   "source": [
    "num_1 = int(input(\"Please enter a numbter between 1 and 100: \"))\n",
    "num_2 = int(input(\"Please enter a number between 1 and 100:\"))\n",
    "\n",
    "while num_1 > 100 or num_1 < 0 or num_2 > 100 or num_2 < 0 or num_1==num_2:\n",
    "    if num_1 == num_2:\n",
    "        print(\"Sorry, those two numbers should be different.\")\n",
    "    else:\n",
    "        print(\"Numbers must be between 1 and 100.\")\n",
    "    \n",
    "    num_1 = int(input(\"Please enter a numbter between 1 and 100: \"))\n",
    "    num_2 = int(input(\"Please enter a number between 1 and 100:\"))\n",
    "\n",
    "if num_1 < num_2:\n",
    "    for num in range(num_1, num_2+1):\n",
    "        print(num)\n",
    "else:\n",
    "    for num in range(num_2, num_1+1):\n",
    "        print(num)"
   ]
  },
  {
   "cell_type": "markdown",
   "id": "4270b448-8263-4868-aea5-e09c6325c6fc",
   "metadata": {},
   "source": [
    "通过while循环，我们可以让用户进行不断的输入，直到用户决定停止输入。"
   ]
  },
  {
   "cell_type": "markdown",
   "id": "2b4be06f-5e74-404a-b958-fc2ca7161b6e",
   "metadata": {},
   "source": [
    "## dictionary 字典"
   ]
  },
  {
   "cell_type": "markdown",
   "id": "13c9682a-2203-4c64-a586-883de3d538df",
   "metadata": {},
   "source": [
    "字典是Python的一个有用的数据结构。\n",
    "\n",
    "列表是有序的，而字典是无序的，不过字典的速度比列表快了很多。\n",
    "\n",
    "字典中的元素由键值对来进行构成："
   ]
  },
  {
   "cell_type": "code",
   "execution_count": 19,
   "id": "b740bd93-8b5f-48dd-9541-56836b1991c9",
   "metadata": {},
   "outputs": [
    {
     "name": "stdout",
     "output_type": "stream",
     "text": [
      "Jobs\n"
     ]
    }
   ],
   "source": [
    "id_name_pair = {\"001\":\"Jobs\", \"002\":\"Bob\", \"003\":\"Alex\", \"004\":\"Jobs\"}\n",
    "\n",
    "print(id_name_pair[\"001\"])"
   ]
  },
  {
   "cell_type": "markdown",
   "id": "d254a6e1-4f4e-4d72-a744-a3b9d9f5053e",
   "metadata": {},
   "source": [
    "由于字典是无序的，所以无法通过位置坐标来访问对应位置的键值对，但是我们可以使用键来查询对应的值。\n",
    "\n",
    "所以，列表中的键的值必须是唯一的，但是值并不是，而且键必须是不可更改的数据类型。"
   ]
  },
  {
   "cell_type": "markdown",
   "id": "3e797dff-d440-459d-856b-b19eed8bba82",
   "metadata": {},
   "source": [
    "我们也可以使用get()函数来访问："
   ]
  },
  {
   "cell_type": "code",
   "execution_count": 20,
   "id": "aac71721-6cba-4d09-a14a-3df54bcc2ce8",
   "metadata": {},
   "outputs": [
    {
     "data": {
      "text/plain": [
       "'Bob'"
      ]
     },
     "execution_count": 20,
     "metadata": {},
     "output_type": "execute_result"
    }
   ],
   "source": [
    "id_name_pair.get(\"002\")"
   ]
  },
  {
   "cell_type": "markdown",
   "id": "7f09cc15-523a-4bdd-a684-530b81dee0d2",
   "metadata": {},
   "source": [
    "我们可以向字典添加新的键值对："
   ]
  },
  {
   "cell_type": "code",
   "execution_count": 21,
   "id": "afd65160-1bc9-4025-aa78-ef95037a688f",
   "metadata": {},
   "outputs": [
    {
     "name": "stdout",
     "output_type": "stream",
     "text": [
      "{'001': 'Jobs', '002': 'Bob', '003': 'Alex', '004': 'Jobs', '005': 'Henry'}\n"
     ]
    }
   ],
   "source": [
    "id_name_pair[\"005\"] = \"Henry\"\n",
    "\n",
    "print(id_name_pair)"
   ]
  },
  {
   "cell_type": "code",
   "execution_count": 22,
   "id": "988498a4-a5bb-41c1-a638-1d07f2cf74e2",
   "metadata": {},
   "outputs": [
    {
     "name": "stdout",
     "output_type": "stream",
     "text": [
      "dict_items([('001', 'Jobs'), ('002', 'Bob'), ('003', 'Alex'), ('004', 'Jobs'), ('005', 'Henry')])\n"
     ]
    }
   ],
   "source": [
    "print(id_name_pair.items())"
   ]
  },
  {
   "cell_type": "markdown",
   "id": "c8f1100b-a791-4161-96da-dc0dd47d372e",
   "metadata": {},
   "source": [
    "我们可以使用for循环来访问字典："
   ]
  },
  {
   "cell_type": "code",
   "execution_count": 23,
   "id": "d17b9a6c-ba3a-46a2-83ac-796f9cd6b64a",
   "metadata": {},
   "outputs": [
    {
     "name": "stdout",
     "output_type": "stream",
     "text": [
      "001\n",
      "002\n",
      "003\n",
      "004\n",
      "005\n"
     ]
    }
   ],
   "source": [
    "for idNumber in id_name_pair:\n",
    "    print(idNumber)"
   ]
  },
  {
   "cell_type": "code",
   "execution_count": 24,
   "id": "63089e39-12c4-4149-af8f-4eaf3bd9c698",
   "metadata": {},
   "outputs": [
    {
     "name": "stdout",
     "output_type": "stream",
     "text": [
      "001:Jobs\n",
      "002:Bob\n",
      "003:Alex\n",
      "004:Jobs\n",
      "005:Henry\n"
     ]
    }
   ],
   "source": [
    "for idNumber,name in id_name_pair.items():\n",
    "    print(idNumber + \":\" +name)"
   ]
  },
  {
   "cell_type": "markdown",
   "id": "8f8da79c-33b2-4d37-afab-c16c28450bdd",
   "metadata": {},
   "source": [
    "要修改字典的值也非常的简单："
   ]
  },
  {
   "cell_type": "code",
   "execution_count": 27,
   "id": "a48ec65c-8d59-43ed-80fa-819f2a82f345",
   "metadata": {},
   "outputs": [
    {
     "name": "stdout",
     "output_type": "stream",
     "text": [
      "001:Jobs\n",
      "002:Bob\n",
      "003:Alex\n",
      "004:Jobs\n",
      "005:Henny\n"
     ]
    }
   ],
   "source": [
    "id_name_pair[\"005\"] = \"Henny\"\n",
    "\n",
    "for idNumber,name in id_name_pair.items():\n",
    "    print(idNumber + \":\" +name)"
   ]
  },
  {
   "cell_type": "markdown",
   "id": "2b81e7ec-73c8-43e2-bb17-96abdb78024e",
   "metadata": {},
   "source": [
    "如果要删除其中的一个键值对，可以使用del关键字："
   ]
  },
  {
   "cell_type": "code",
   "execution_count": 28,
   "id": "47e75403-f9f8-42d4-b81e-c63436fc2fc6",
   "metadata": {},
   "outputs": [
    {
     "name": "stdout",
     "output_type": "stream",
     "text": [
      "001:Jobs\n",
      "002:Bob\n",
      "003:Alex\n",
      "004:Jobs\n"
     ]
    }
   ],
   "source": [
    "del id_name_pair[\"005\"]\n",
    "\n",
    "for idNumber,name in id_name_pair.items():\n",
    "    print(idNumber + \":\" +name)"
   ]
  },
  {
   "cell_type": "markdown",
   "id": "d4323024-2efc-41e1-9e51-be932ee81208",
   "metadata": {},
   "source": [
    "这里可以使用一个关键字in来查询某一个元素是否在对象中："
   ]
  },
  {
   "cell_type": "code",
   "execution_count": 29,
   "id": "98cfe76c-0b69-4cfc-932f-fcb924533ff7",
   "metadata": {},
   "outputs": [
    {
     "name": "stdout",
     "output_type": "stream",
     "text": [
      "Jobs\n"
     ]
    }
   ],
   "source": [
    "if \"004\" in id_name_pair:\n",
    "    print(id_name_pair[\"004\"])"
   ]
  },
  {
   "cell_type": "markdown",
   "id": "1b32387f-8e8d-466d-abdf-7ceef35e7810",
   "metadata": {},
   "source": [
    "in也可以和not结合起来："
   ]
  },
  {
   "cell_type": "code",
   "execution_count": 30,
   "id": "9bfaa7f0-5b8f-446e-8b0e-c9206eaac779",
   "metadata": {},
   "outputs": [
    {
     "name": "stdout",
     "output_type": "stream",
     "text": [
      "There is no 008 key in the dictionary\n"
     ]
    }
   ],
   "source": [
    "if \"008\" not in id_name_pair:\n",
    "    print(\"There is no 008 key in the dictionary\")"
   ]
  },
  {
   "cell_type": "markdown",
   "id": "0f1fd3dd-3363-4cc0-b914-d6757bf8075d",
   "metadata": {},
   "source": [
    "in的返回值是True或者Flase。"
   ]
  },
  {
   "cell_type": "code",
   "execution_count": null,
   "id": "37d2a5dd-230f-4c46-b674-f14ee01acfdb",
   "metadata": {},
   "outputs": [
    {
     "name": "stdout",
     "output_type": "stream",
     "text": [
      "False\n",
      "True\n"
     ]
    }
   ],
   "source": [
    "listTesting = [1, 2, 3, 4, 5]\n",
    "\n",
    "print(6 in listTesting)\n",
    "print(1 in listTesting)"
   ]
  },
  {
   "cell_type": "markdown",
   "id": "44ca187d-2fc2-4182-b4e0-13b744bfce70",
   "metadata": {},
   "source": [
    "## Zip function"
   ]
  },
  {
   "cell_type": "markdown",
   "id": "74bb057f-2b51-49eb-8ca6-c8a75da47353",
   "metadata": {},
   "source": [
    "假设我们有两个list："
   ]
  },
  {
   "cell_type": "code",
   "execution_count": 35,
   "id": "bc6e9bb8-0315-4d92-9bf3-9dd02032d000",
   "metadata": {},
   "outputs": [],
   "source": [
    "list_one = [1, 2, 3, 4]\n",
    "list_two = [\"a\", \"b\", \"c\", \"d\"]"
   ]
  },
  {
   "cell_type": "markdown",
   "id": "ad434a7d-1c9c-4d9f-8e19-63c40af52a88",
   "metadata": {},
   "source": [
    "如果我们想要将两个列表中的元素打包成为一个个的元组，我们就可以使用zip函数了。"
   ]
  },
  {
   "cell_type": "code",
   "execution_count": 45,
   "id": "fba928e4-5e6e-4e0e-9cb2-a097bb7ce99a",
   "metadata": {},
   "outputs": [
    {
     "name": "stdout",
     "output_type": "stream",
     "text": [
      "<zip object at 0x7fa890e79ec0>\n"
     ]
    }
   ],
   "source": [
    "zipped = zip(list_one, list_two)\n",
    "print(zipped)"
   ]
  },
  {
   "cell_type": "code",
   "execution_count": 46,
   "id": "755d8aa3-e099-4338-8d31-3a0fdc9e3bff",
   "metadata": {},
   "outputs": [
    {
     "data": {
      "text/plain": [
       "[(1, 'a'), (2, 'b'), (3, 'c'), (4, 'd')]"
      ]
     },
     "execution_count": 46,
     "metadata": {},
     "output_type": "execute_result"
    }
   ],
   "source": [
    "#转换为列表类型\n",
    "\n",
    "list(zipped)"
   ]
  },
  {
   "cell_type": "markdown",
   "id": "4f36556a-caa0-4df3-945b-68054accd80e",
   "metadata": {},
   "source": [
    "那要是两个list的长短不一致呢？"
   ]
  },
  {
   "cell_type": "code",
   "execution_count": 47,
   "id": "30c567af-029a-46bf-9a0f-22a34c3028e1",
   "metadata": {},
   "outputs": [
    {
     "name": "stdout",
     "output_type": "stream",
     "text": [
      "[(1, 'a'), (2, 'b'), (3, 'c'), (4, 'd'), (5, 'e')]\n"
     ]
    }
   ],
   "source": [
    "list_three = [1, 2, 3, 4, 5]\n",
    "list_four = [\"a\", \"b\", \"c\", \"d\", \"e\", \"f\"]\n",
    "\n",
    "print(list(zip(list_three, list_four)))"
   ]
  },
  {
   "cell_type": "markdown",
   "id": "1bcf9064-d759-41bc-918e-445e04a7c7c3",
   "metadata": {},
   "source": [
    "可以发现会按照最短的列表的长度来执行。"
   ]
  },
  {
   "cell_type": "markdown",
   "id": "527d10f9-5d10-4f74-b4bd-3549e21cf96a",
   "metadata": {},
   "source": [
    "## Tuple 数据类型"
   ]
  },
  {
   "cell_type": "markdown",
   "id": "66bd48c4-8634-4777-bc80-2a2ec0dfe214",
   "metadata": {},
   "source": [
    "Python语言的元组和列表是相似的，但是不同的地方在于元组中的元素是不能够修改的。\n",
    "\n",
    "元组会使用小括号来进行表示()，而列表则是使用方括号[]进行表示。"
   ]
  },
  {
   "cell_type": "code",
   "execution_count": 50,
   "id": "a4816265-64ca-4f87-b7f3-2fd1f45a3ebd",
   "metadata": {},
   "outputs": [],
   "source": [
    "is_list = [1, 2, 3]\n",
    "is_tuple = (1, 2, 3)"
   ]
  },
  {
   "cell_type": "code",
   "execution_count": 52,
   "id": "bdcfb174-1429-4240-861b-a5a6ccd7f742",
   "metadata": {},
   "outputs": [
    {
     "name": "stdout",
     "output_type": "stream",
     "text": [
      "[100, 2, 3]\n"
     ]
    }
   ],
   "source": [
    "# 如果我们修改列表\n",
    "is_list[0] = 100\n",
    "print(is_list)"
   ]
  },
  {
   "cell_type": "code",
   "execution_count": 53,
   "id": "650b2089-b0cc-4bbf-bc78-27ca9d29fc1f",
   "metadata": {},
   "outputs": [
    {
     "ename": "TypeError",
     "evalue": "'tuple' object does not support item assignment",
     "output_type": "error",
     "traceback": [
      "\u001b[0;31m---------------------------------------------------------------------------\u001b[0m",
      "\u001b[0;31mTypeError\u001b[0m                                 Traceback (most recent call last)",
      "Input \u001b[0;32mIn [53]\u001b[0m, in \u001b[0;36m<cell line: 2>\u001b[0;34m()\u001b[0m\n\u001b[1;32m      1\u001b[0m \u001b[38;5;66;03m# 如果我们修改元组\u001b[39;00m\n\u001b[0;32m----> 2\u001b[0m is_tuple[\u001b[38;5;241m0\u001b[39m] \u001b[38;5;241m=\u001b[39m \u001b[38;5;241m100\u001b[39m\n",
      "\u001b[0;31mTypeError\u001b[0m: 'tuple' object does not support item assignment"
     ]
    }
   ],
   "source": [
    "# 如果我们修改元组\n",
    "is_tuple[0] = 100"
   ]
  },
  {
   "cell_type": "markdown",
   "id": "bb1f6ca5-e500-44ab-b8af-3d742d6e6c80",
   "metadata": {},
   "source": [
    "可以发现会报错，报错的内容为：\n",
    "\n",
    "'tuple' object does not support item assignment"
   ]
  },
  {
   "cell_type": "markdown",
   "id": "7de999b6-600b-452b-ac3a-ad30488bcb3c",
   "metadata": {},
   "source": [
    "不过，我们可以对两个元组进行合并，前提是我们创建了一个新的元组："
   ]
  },
  {
   "cell_type": "code",
   "execution_count": 54,
   "id": "75f41484-1777-4802-b460-2e6374cabe5a",
   "metadata": {},
   "outputs": [
    {
     "name": "stdout",
     "output_type": "stream",
     "text": [
      "(1, 2, 3, 4, 5, 6)\n",
      "<class 'tuple'>\n"
     ]
    }
   ],
   "source": [
    "tuple_1 = (1, 2, 3)\n",
    "tuple_2 = (4, 5, 6)\n",
    "\n",
    "tuple_3 = ()\n",
    "tuple_3 = tuple_1 + tuple_2\n",
    "\n",
    "print(tuple_3)\n",
    "print(type(tuple_3))"
   ]
  },
  {
   "cell_type": "markdown",
   "id": "ac0e0afb-f063-4ec1-abc3-505bbdf5171f",
   "metadata": {},
   "source": [
    "因为元组无法被更改，所以我们也无法删除元组中的某一个元素，但是我们可以使用del来删除整个元组："
   ]
  },
  {
   "cell_type": "code",
   "execution_count": 55,
   "id": "746ace65-27ac-4c24-ac9a-46e931e95d4b",
   "metadata": {},
   "outputs": [
    {
     "ename": "NameError",
     "evalue": "name 'tuple_del' is not defined",
     "output_type": "error",
     "traceback": [
      "\u001b[0;31m---------------------------------------------------------------------------\u001b[0m",
      "\u001b[0;31mNameError\u001b[0m                                 Traceback (most recent call last)",
      "Input \u001b[0;32mIn [55]\u001b[0m, in \u001b[0;36m<cell line: 2>\u001b[0;34m()\u001b[0m\n\u001b[1;32m      1\u001b[0m tupple_del \u001b[38;5;241m=\u001b[39m (\u001b[38;5;241m1\u001b[39m, \u001b[38;5;241m2\u001b[39m)\n\u001b[0;32m----> 2\u001b[0m \u001b[38;5;28;01mdel\u001b[39;00m tuple_del\n\u001b[1;32m      4\u001b[0m \u001b[38;5;28mprint\u001b[39m(tuple_del)\n",
      "\u001b[0;31mNameError\u001b[0m: name 'tuple_del' is not defined"
     ]
    }
   ],
   "source": [
    "tupple_del = (1, 2)\n",
    "del tuple_del\n",
    "\n",
    "print(tuple_del)  # 这个元组已经被删除了，所以会报错"
   ]
  },
  {
   "cell_type": "markdown",
   "id": "33a83acb-53c6-4187-a2a9-48d1be2ca087",
   "metadata": {},
   "source": [
    "我们可以使用len()来查看元组的大小："
   ]
  },
  {
   "cell_type": "code",
   "execution_count": 56,
   "id": "03f5fe42-a39e-4fd3-9c86-37c46b884dd8",
   "metadata": {},
   "outputs": [
    {
     "name": "stdout",
     "output_type": "stream",
     "text": [
      "3\n"
     ]
    }
   ],
   "source": [
    "tuple_len = (1, 2, 3)\n",
    "\n",
    "print(len(tuple_len))"
   ]
  },
  {
   "cell_type": "markdown",
   "id": "73b781d4-2426-44ce-bc59-df5aeb67c817",
   "metadata": {},
   "source": [
    "## 多维数组"
   ]
  },
  {
   "cell_type": "markdown",
   "id": "2be06637-73a5-4b65-b368-d4b9e1b9e6be",
   "metadata": {},
   "source": [
    "我们需要考虑一下多维数组的情况："
   ]
  },
  {
   "cell_type": "code",
   "execution_count": 57,
   "id": "3f368a19-7b4f-4e8b-be2c-8a3cd0b0ecd0",
   "metadata": {},
   "outputs": [],
   "source": [
    "list_2d = [[1, 2, 3], [4, 5, 6], [7, 8, 9]]"
   ]
  },
  {
   "cell_type": "markdown",
   "id": "15753571-efe3-47a7-839a-7bf7740e2117",
   "metadata": {},
   "source": [
    "我们可以发现这是一个3x3的数组，对于这样的数组，如果我们需要访问第二行第三列的元素，我们应该怎么做呢？"
   ]
  },
  {
   "cell_type": "code",
   "execution_count": 59,
   "id": "171bd79a-01a4-4ca7-8f72-1e90419a48aa",
   "metadata": {},
   "outputs": [
    {
     "name": "stdout",
     "output_type": "stream",
     "text": [
      "6\n"
     ]
    }
   ],
   "source": [
    "print(list_2d[1][2])"
   ]
  },
  {
   "cell_type": "markdown",
   "id": "98ddbcf4-34b9-465f-b863-dffe7da12f9f",
   "metadata": {},
   "source": [
    "如上所示，list_2d后面有两个方括号，第一个方括号用来表示行，第二个方括号用来表示列。"
   ]
  }
 ],
 "metadata": {
  "kernelspec": {
   "display_name": "Python 3 (ipykernel)",
   "language": "python",
   "name": "python3"
  },
  "language_info": {
   "codemirror_mode": {
    "name": "ipython",
    "version": 3
   },
   "file_extension": ".py",
   "mimetype": "text/x-python",
   "name": "python",
   "nbconvert_exporter": "python",
   "pygments_lexer": "ipython3",
   "version": "3.10.4"
  }
 },
 "nbformat": 4,
 "nbformat_minor": 5
}
